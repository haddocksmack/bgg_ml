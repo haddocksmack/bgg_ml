{
 "cells": [
  {
   "cell_type": "code",
   "execution_count": 146,
   "id": "97cdbb8e-5751-48e9-81fc-3371ecd44912",
   "metadata": {},
   "outputs": [],
   "source": [
    "import pandas as pd\n",
    "import numpy as np\n",
    "\n",
    "from sklearn.model_selection import train_test_split, KFold, cross_val_score, cross_val_predict, cross_validate\n",
    "from sklearn.linear_model import LinearRegression"
   ]
  },
  {
   "cell_type": "code",
   "execution_count": 18,
   "id": "05ba000a-f957-429a-a6e4-ff3474da0e95",
   "metadata": {},
   "outputs": [],
   "source": [
    "# Import processed data from EDA notebook\n",
    "bgg = pd.read_csv('bgg_processed.csv', index_col='game_id')"
   ]
  },
  {
   "cell_type": "code",
   "execution_count": 17,
   "id": "62aa8c82-8714-4930-9822-905c1e0f0a6c",
   "metadata": {},
   "outputs": [],
   "source": [
    "# Split off target column: `avg_rating`\n",
    "y = bgg['avg_rating']\n",
    "X = bgg.drop('avg_rating', axis=1).copy()"
   ]
  },
  {
   "cell_type": "code",
   "execution_count": 25,
   "id": "bcc7682d-602b-4bd4-9d6f-38dda76cf521",
   "metadata": {},
   "outputs": [],
   "source": [
    "# Split into training and testing sets\n",
    "X_train, X_test, y_train, y_test = train_test_split(\n",
    "    X, y, test_size=0.2, random_state=42\n",
    ")"
   ]
  },
  {
   "cell_type": "markdown",
   "id": "59368b31-1885-4e7b-8170-81cafcbfb9f1",
   "metadata": {},
   "source": [
    "## Initial linear regression\n",
    "\n",
    "First let's see how simple linear regression fairs. There are 2000 entries in the original data, so the train/test split leaves 1600 rows in the training data. 8 splits for K-Fold cross validation should ve sufficient so each slice is 200 rows. The rows were already shuffled with the train/test split, so they don't need shuffled again."
   ]
  },
  {
   "cell_type": "code",
   "execution_count": 137,
   "id": "f51a3cb0-990f-4c08-9bc9-bbb72c816675",
   "metadata": {},
   "outputs": [
    {
     "data": {
      "text/plain": [
       "20290175055.225716"
      ]
     },
     "execution_count": 137,
     "metadata": {},
     "output_type": "execute_result"
    }
   ],
   "source": [
    "# K-Fold cross validation\n",
    "cv = KFold(n_splits=8)\n",
    "\n",
    "model = LinearRegression()\n",
    "\n",
    "scores = cross_val_score(\n",
    "    model,\n",
    "    X_train,\n",
    "    y_train,\n",
    "    scoring='neg_mean_squared_error',\n",
    "    cv=cv\n",
    ")\n",
    "\n",
    "# Find RMSE\n",
    "rmse = np.mean(np.sqrt(np.absolute(scores)))\n",
    "rmse"
   ]
  },
  {
   "cell_type": "markdown",
   "id": "f3a6e59a-3b62-478f-8d53-fa40e10673c7",
   "metadata": {},
   "source": [
    "Clearly, something isn't optimal. The range between the minimum score and maximum score is 2.7 points. We'd want the average RMSE to be smaller than this range, not 20 billion."
   ]
  },
  {
   "cell_type": "code",
   "execution_count": 155,
   "id": "12b4c486-3465-44f8-b7c1-d5d03c595686",
   "metadata": {},
   "outputs": [
    {
     "name": "stdout",
     "output_type": "stream",
     "text": [
      "Slice 0 RMSE: 0.44547528136469133\n",
      "Slice 1 RMSE: 0.3831761390119257\n",
      "Slice 2 RMSE: 0.3741414727970673\n",
      "Slice 3 RMSE: 0.36228473775631453\n",
      "Slice 4 RMSE: 0.31812747589049367\n",
      "Slice 5 RMSE: 0.3616080264109322\n",
      "Slice 6 RMSE: 0.39168740199763735\n",
      "Slice 7 RMSE: 162321400439.16922\n"
     ]
    }
   ],
   "source": [
    "# Look at scores from each split\n",
    "for i in scores:\n",
    "    score = np.sqrt(np.absolute(i))\n",
    "    print(f'Slice {list(scores).index(i)} RMSE: {score}')"
   ]
  },
  {
   "cell_type": "markdown",
   "id": "1d35d329-9e7e-444a-9eb5-a0bf6bf00bbd",
   "metadata": {},
   "source": [
    "There is something in the 8th slice that is going wrong. Let's dig in a little to see what it is. First, we need to see what the CV is actually predicting:"
   ]
  },
  {
   "cell_type": "code",
   "execution_count": 192,
   "id": "eb15788e-e01a-472a-b0fc-de9b735dcf58",
   "metadata": {},
   "outputs": [],
   "source": [
    "# Generate predictions from the cross validation\n",
    "preds = cross_val_predict(\n",
    "    model,\n",
    "    X_train,\n",
    "    y_train,\n",
    "    cv=cv\n",
    ")"
   ]
  },
  {
   "cell_type": "code",
   "execution_count": 194,
   "id": "b5202e3d-64ad-418a-8455-55051b7affe0",
   "metadata": {},
   "outputs": [
    {
     "name": "stdout",
     "output_type": "stream",
     "text": [
      "Max prediction: 11.409906691914584\n",
      "Min prediction: -2295571259637.283\n"
     ]
    }
   ],
   "source": [
    "print(f'Max prediction: {np.max(preds)}\\nMin prediction: {np.min(preds)}')"
   ]
  },
  {
   "cell_type": "markdown",
   "id": "916aa9f9-3b46-41e9-8aed-6fa3049f3b1d",
   "metadata": {},
   "source": [
    "It looks like the highest prediction is within reason. Ideally, we'd want it below 10, but it isn't too far off. The lowest prediction is causing a problem."
   ]
  },
  {
   "cell_type": "code",
   "execution_count": 207,
   "id": "44d34da2-6883-433e-af5f-e6657af57292",
   "metadata": {},
   "outputs": [
    {
     "data": {
      "text/html": [
       "<div>\n",
       "<style scoped>\n",
       "    .dataframe tbody tr th:only-of-type {\n",
       "        vertical-align: middle;\n",
       "    }\n",
       "\n",
       "    .dataframe tbody tr th {\n",
       "        vertical-align: top;\n",
       "    }\n",
       "\n",
       "    .dataframe thead th {\n",
       "        text-align: right;\n",
       "    }\n",
       "</style>\n",
       "<table border=\"1\" class=\"dataframe\">\n",
       "  <thead>\n",
       "    <tr style=\"text-align: right;\">\n",
       "      <th></th>\n",
       "      <th>min_players</th>\n",
       "      <th>max_players</th>\n",
       "      <th>avg_time</th>\n",
       "      <th>weight</th>\n",
       "      <th>age</th>\n",
       "      <th>Acting</th>\n",
       "      <th>Action Drafting</th>\n",
       "      <th>Action Points</th>\n",
       "      <th>Action Queue</th>\n",
       "      <th>Action Retrieval</th>\n",
       "      <th>...</th>\n",
       "      <th>World War II</th>\n",
       "      <th>Zombies</th>\n",
       "      <th>Abstract Games</th>\n",
       "      <th>Children's Games</th>\n",
       "      <th>Customizable Games</th>\n",
       "      <th>Family Games</th>\n",
       "      <th>Party Games</th>\n",
       "      <th>Strategy Games</th>\n",
       "      <th>Thematic Games</th>\n",
       "      <th>Wargames</th>\n",
       "    </tr>\n",
       "    <tr>\n",
       "      <th>game_id</th>\n",
       "      <th></th>\n",
       "      <th></th>\n",
       "      <th></th>\n",
       "      <th></th>\n",
       "      <th></th>\n",
       "      <th></th>\n",
       "      <th></th>\n",
       "      <th></th>\n",
       "      <th></th>\n",
       "      <th></th>\n",
       "      <th></th>\n",
       "      <th></th>\n",
       "      <th></th>\n",
       "      <th></th>\n",
       "      <th></th>\n",
       "      <th></th>\n",
       "      <th></th>\n",
       "      <th></th>\n",
       "      <th></th>\n",
       "      <th></th>\n",
       "      <th></th>\n",
       "    </tr>\n",
       "  </thead>\n",
       "  <tbody>\n",
       "    <tr>\n",
       "      <th>46213</th>\n",
       "      <td>3.064573</td>\n",
       "      <td>0.451541</td>\n",
       "      <td>-0.217288</td>\n",
       "      <td>-1.790141</td>\n",
       "      <td>0.301476</td>\n",
       "      <td>0.0</td>\n",
       "      <td>0.0</td>\n",
       "      <td>0.0</td>\n",
       "      <td>0.0</td>\n",
       "      <td>0.0</td>\n",
       "      <td>...</td>\n",
       "      <td>0.0</td>\n",
       "      <td>0.0</td>\n",
       "      <td>0.0</td>\n",
       "      <td>1.0</td>\n",
       "      <td>0.0</td>\n",
       "      <td>0.0</td>\n",
       "      <td>1.0</td>\n",
       "      <td>0.0</td>\n",
       "      <td>0.0</td>\n",
       "      <td>0.0</td>\n",
       "    </tr>\n",
       "  </tbody>\n",
       "</table>\n",
       "<p>1 rows × 258 columns</p>\n",
       "</div>"
      ],
      "text/plain": [
       "         min_players  max_players  avg_time    weight       age  Acting  \\\n",
       "game_id                                                                   \n",
       "46213       3.064573     0.451541 -0.217288 -1.790141  0.301476     0.0   \n",
       "\n",
       "         Action Drafting  Action Points  Action Queue  Action Retrieval  ...  \\\n",
       "game_id                                                                  ...   \n",
       "46213                0.0            0.0           0.0               0.0  ...   \n",
       "\n",
       "         World War II  Zombies  Abstract Games  Children's Games  \\\n",
       "game_id                                                            \n",
       "46213             0.0      0.0             0.0               1.0   \n",
       "\n",
       "         Customizable Games  Family Games  Party Games  Strategy Games  \\\n",
       "game_id                                                                  \n",
       "46213                   0.0           0.0          1.0             0.0   \n",
       "\n",
       "         Thematic Games  Wargames  \n",
       "game_id                            \n",
       "46213               0.0       0.0  \n",
       "\n",
       "[1 rows x 258 columns]"
      ]
     },
     "execution_count": 207,
     "metadata": {},
     "output_type": "execute_result"
    }
   ],
   "source": [
    "# Find entry of smallest prediction\n",
    "X_train.iloc[[list(preds).index(np.min(preds))]]"
   ]
  },
  {
   "cell_type": "code",
   "execution_count": 224,
   "id": "a64aa38f-4e35-41ee-a8ac-5a7e5aebc3a4",
   "metadata": {},
   "outputs": [
    {
     "data": {
      "text/plain": [
       "'Telestrations'"
      ]
     },
     "execution_count": 224,
     "metadata": {},
     "output_type": "execute_result"
    }
   ],
   "source": [
    "# Load the names df\n",
    "names = pd.read_csv('bgg_names.csv', index_col='game_id')\n",
    "\n",
    "# Find name of game causing the issue\n",
    "names.loc[46213][1]"
   ]
  },
  {
   "cell_type": "code",
   "execution_count": 228,
   "id": "b856b0d5-c6ba-4f99-b38f-fb5caa821088",
   "metadata": {},
   "outputs": [],
   "source": [
    "# Use `cross_validate` instead - may delete later\n",
    "kf = KFold(n_splits=8)\n",
    "    \n",
    "model = LinearRegression()\n",
    "\n",
    "scores = cross_validate(model, X_train, y_train, scoring='neg_mean_squared_error',\n",
    "                         cv=kf, return_train_score=True)\n"
   ]
  },
  {
   "cell_type": "code",
   "execution_count": 229,
   "id": "4425f3f9-a529-4d84-a48d-10289de176f5",
   "metadata": {},
   "outputs": [
    {
     "data": {
      "text/plain": [
       "57389281491.1168"
      ]
     },
     "execution_count": 229,
     "metadata": {},
     "output_type": "execute_result"
    }
   ],
   "source": [
    "np.sqrt(np.absolute(scores['test_score'].mean()))"
   ]
  },
  {
   "cell_type": "code",
   "execution_count": 230,
   "id": "93e483c0-cdc3-49cd-aabc-ba48d2804c72",
   "metadata": {},
   "outputs": [
    {
     "data": {
      "text/plain": [
       "{'fit_time': array([0.01361346, 0.01625967, 0.01560736, 0.01716471, 0.01502013,\n",
       "        0.01451659, 0.0158937 , 0.01537204]),\n",
       " 'score_time': array([0.00245476, 0.00214791, 0.00206614, 0.00219345, 0.00214076,\n",
       "        0.00240612, 0.00197291, 0.0019629 ]),\n",
       " 'test_score': array([-1.98448226e-01, -1.46823954e-01, -1.39981842e-01, -1.31250231e-01,\n",
       "        -1.01205091e-01, -1.30760365e-01, -1.53419021e-01, -2.63482370e+22]),\n",
       " 'train_score': array([-0.0816828 , -0.08181892, -0.07979048, -0.08114058, -0.08439798,\n",
       "        -0.0810409 , -0.07993021, -0.08299983])}"
      ]
     },
     "execution_count": 230,
     "metadata": {},
     "output_type": "execute_result"
    }
   ],
   "source": [
    "scores"
   ]
  },
  {
   "cell_type": "code",
   "execution_count": null,
   "id": "42ce978b-622a-4684-925d-70ffc0351a18",
   "metadata": {},
   "outputs": [],
   "source": []
  }
 ],
 "metadata": {
  "kernelspec": {
   "display_name": "Python 3 (ipykernel)",
   "language": "python",
   "name": "python3"
  },
  "language_info": {
   "codemirror_mode": {
    "name": "ipython",
    "version": 3
   },
   "file_extension": ".py",
   "mimetype": "text/x-python",
   "name": "python",
   "nbconvert_exporter": "python",
   "pygments_lexer": "ipython3",
   "version": "3.8.18"
  }
 },
 "nbformat": 4,
 "nbformat_minor": 5
}
