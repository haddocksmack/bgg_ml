{
 "cells": [
  {
   "cell_type": "code",
   "execution_count": 1,
   "metadata": {},
   "outputs": [],
   "source": [
    "import pandas as pd\n",
    "import numpy as np\n",
    "import matplotlib.pyplot as plt \n",
    "\n",
    "from sklearn.preprocessing import scale \n",
    "from sklearn.model_selection import train_test_split, KFold, cross_val_score, cross_val_predict, cross_validate\n",
    "from sklearn.linear_model import LinearRegression, Lasso\n",
    "from sklearn.decomposition import PCA\n",
    "from sklearn.cross_decomposition import PLSRegression\n",
    "from sklearn.metrics import mean_squared_error\n",
    "\n",
    "from helper_functions import find_outlier_games, kfold_validate_score, kfold_validate_pred"
   ]
  },
  {
   "cell_type": "code",
   "execution_count": 2,
   "metadata": {},
   "outputs": [],
   "source": [
    "# Import processed data from EDA notebook\n",
    "bgg = pd.read_csv('./data/bgg_processed.csv', index_col='game_id')"
   ]
  },
  {
   "cell_type": "code",
   "execution_count": 3,
   "metadata": {},
   "outputs": [],
   "source": [
    "# Split off target column: `avg_rating`\n",
    "y = bgg['avg_rating']\n",
    "X = bgg.drop('avg_rating', axis=1).copy()"
   ]
  },
  {
   "cell_type": "code",
   "execution_count": 4,
   "metadata": {},
   "outputs": [],
   "source": [
    "# Split into training and testing sets\n",
    "X_train, X_test, y_train, y_test = train_test_split(\n",
    "    X, y, test_size=0.2, random_state=42\n",
    ")"
   ]
  },
  {
   "cell_type": "markdown",
   "metadata": {},
   "source": [
    "## Initial linear regression\n",
    "\n",
    "First let's see how simple linear regression fares. There are 2000 entries in the original data, so the train/test split leaves 1600 rows in the training data. 8 splits for K-Fold cross validation should ve sufficient so each slice is 200 rows. The rows were already shuffled with the train/test split, so they don't need shuffled again."
   ]
  },
  {
   "cell_type": "code",
   "execution_count": 5,
   "metadata": {},
   "outputs": [
    {
     "data": {
      "text/plain": [
       "4825688010.338199"
      ]
     },
     "execution_count": 5,
     "metadata": {},
     "output_type": "execute_result"
    }
   ],
   "source": [
    "# Find mean RMSE through linear regression over 8 fold\n",
    "kfold_validate_score(X_train, y_train)"
   ]
  },
  {
   "cell_type": "markdown",
   "metadata": {},
   "source": [
    "Clearly, something isn't optimal. The range between the minimum score and maximum score is 2.7 points. We'd want the average RMSE to be smaller than this range, not 20 billion."
   ]
  },
  {
   "cell_type": "code",
   "execution_count": 6,
   "metadata": {},
   "outputs": [],
   "source": [
    "# Create the scores used by the previous function\n",
    "scores = -1 * cross_val_score(\n",
    "    LinearRegression(),\n",
    "    X_train,\n",
    "    y_train,\n",
    "    scoring='neg_mean_squared_error',\n",
    "    cv=KFold(n_splits=8)\n",
    ")"
   ]
  },
  {
   "cell_type": "code",
   "execution_count": 7,
   "metadata": {},
   "outputs": [
    {
     "name": "stdout",
     "output_type": "stream",
     "text": [
      "Slice 0 RMSE: 0.4454752813646904\n",
      "Slice 1 RMSE: 0.3831761390119256\n",
      "Slice 2 RMSE: 0.37414147279706716\n",
      "Slice 3 RMSE: 0.36228473775631465\n",
      "Slice 4 RMSE: 0.3181274758904935\n",
      "Slice 5 RMSE: 0.36160802641093226\n",
      "Slice 6 RMSE: 0.39168740199763713\n",
      "Slice 7 RMSE: 38605504080.06909\n"
     ]
    }
   ],
   "source": [
    "# Look at scores from each split\n",
    "for i in scores:\n",
    "    score = np.sqrt(i)\n",
    "    print(f'Slice {list(scores).index(i)} RMSE: {score}')"
   ]
  },
  {
   "cell_type": "markdown",
   "metadata": {},
   "source": [
    "There is something in the 8th slice that is going wrong. Let's dig in a little to see what it is. First, we need to see what the CV is actually predicting:"
   ]
  },
  {
   "cell_type": "code",
   "execution_count": 8,
   "metadata": {},
   "outputs": [
    {
     "data": {
      "text/plain": [
       "array([7.18031593, 7.14230428, 6.73584719, ..., 7.52143596, 7.22272989,\n",
       "       7.19186905])"
      ]
     },
     "execution_count": 8,
     "metadata": {},
     "output_type": "execute_result"
    }
   ],
   "source": [
    "# Generate predictions from the cross validation\n",
    "preds = kfold_validate_pred(X_train, y_train)\n",
    "preds"
   ]
  },
  {
   "cell_type": "code",
   "execution_count": 9,
   "metadata": {},
   "outputs": [
    {
     "name": "stdout",
     "output_type": "stream",
     "text": [
      "Max prediction: 545964274530.2242\n",
      "Min prediction: 5.799880689399389\n"
     ]
    }
   ],
   "source": [
    "print(f'Max prediction: {np.max(preds)}\\nMin prediction: {np.min(preds)}')"
   ]
  },
  {
   "cell_type": "markdown",
   "metadata": {},
   "source": [
    "It looks like the highest prediction is within reason. Ideally, we'd want it below 10, but it isn't too far off. The lowest prediction is causing a problem."
   ]
  },
  {
   "cell_type": "code",
   "execution_count": 10,
   "metadata": {},
   "outputs": [
    {
     "data": {
      "text/plain": [
       "171668"
      ]
     },
     "execution_count": 10,
     "metadata": {},
     "output_type": "execute_result"
    }
   ],
   "source": [
    "# Find index of smallest prediction in X_train\n",
    "outlier_idx = X_train.iloc[[list(preds).index(np.min(preds))]].index[0]\n",
    "outlier_idx"
   ]
  },
  {
   "cell_type": "code",
   "execution_count": 11,
   "metadata": {},
   "outputs": [],
   "source": [
    "# Load the names df\n",
    "names = pd.read_csv('./data/bgg_names.csv', index_col='game_id')"
   ]
  },
  {
   "cell_type": "code",
   "execution_count": 12,
   "metadata": {},
   "outputs": [
    {
     "data": {
      "text/plain": [
       "'The Grizzled'"
      ]
     },
     "execution_count": 12,
     "metadata": {},
     "output_type": "execute_result"
    }
   ],
   "source": [
    "# Find name of game causing the issue\n",
    "names.loc[outlier_idx][0]"
   ]
  },
  {
   "cell_type": "markdown",
   "metadata": {},
   "source": [
    "The model is predicting a very anomalous result for the game called \"Telestrations\". Is this a result that is specific for 8 k-fold slices?"
   ]
  },
  {
   "cell_type": "code",
   "execution_count": 13,
   "metadata": {},
   "outputs": [
    {
     "name": "stdout",
     "output_type": "stream",
     "text": [
      "2 folds - Outlier games:\n",
      "\t {'Diplomacy': 8081902.616508158, 'Blood on the Clocktower': 8081902.877609549, 'Ra': 180684011582.63342, 'The Estates': 180684011581.3605, 'Wings of War: Famous Aces': -1095319039201.0984, 'Paths of Glory': -1095319039201.7144, 'The Grizzled': -1095319039202.1729, 'No Thanks!': 180684011581.2561, 'Cosmic Encounter': 8081902.486027555, 'History of the World': -1095319039202.1283, 'A Game of Thrones: The Board Game (Second Edition)': 8081902.896602249, 'Nightmare Productions': 180684011581.69788, 'Cosmic Encounter: 42nd Anniversary Edition': 8081902.8611045275, 'Tiny Epic Kingdoms': 8081902.174743479, 'Citadels': -375813427.97197396, 'Arkham Horror': -375813427.9146027, 'Rhino Hero': -375813428.3995588, 'Telestrations': 953990098043.2666}\n",
      "3 folds - Outlier games:\n",
      "\t {'Ra': 48337478888722.61, 'The Estates': 48337478888722.08, 'Wings of War: Famous Aces': -8158518115380.357, 'Paths of Glory': -8158518115380.586, 'The Grizzled': -8158518115381.316, 'No Thanks!': 48337478888721.95, 'History of the World': -8158518115381.041, 'Nightmare Productions': 48337478888722.26, 'Citadels': 189429627.98964822, 'Arkham Horror': 189429628.07448763, 'Rhino Hero': 189429627.5382461, 'Telestrations': 1588532749625.4897}\n",
      "4 folds - Outlier games:\n",
      "\t {'Ra': -15269620469265.305, 'The Estates': -15269620469265.643, 'Wings of War: Famous Aces': 2108322108975.3674, 'Paths of Glory': 2108322108975.29, 'The Grizzled': 2108322108974.4443, 'No Thanks!': -15269620469265.74, 'History of the World': 2108322108974.8152, 'Nightmare Productions': -15269620469265.213, 'Telestrations': 1195985419538.931}\n",
      "5 folds - Outlier games:\n",
      "\t {'Telestrations': 1374661557215.4216}\n",
      "6 folds - Outlier games:\n",
      "\t {'Telestrations': -1556250148477.522}\n",
      "7 folds - Outlier games:\n",
      "\t {'Telestrations': 88716078417.38272}\n",
      "8 folds - Outlier games:\n",
      "\t {'Telestrations': 545964274530.2242}\n",
      "9 folds - Outlier games:\n",
      "\t {'Wings of War: Famous Aces': -2570470612.3251457, 'Paths of Glory': -2570470612.6365733, 'The Grizzled': -2570470613.4379005, 'History of the World': -2570470613.1413894, 'Telestrations': 29376950365.962276}\n",
      "10 folds - Outlier games:\n",
      "\t {'Telestrations': 11868345162.65109}\n",
      "11 folds - Outlier games:\n",
      "\t {'Telestrations': -773411418009.0995}\n",
      "12 folds - Outlier games:\n",
      "\t {'Telestrations': -383955137388.2241}\n",
      "13 folds - Outlier games:\n",
      "\t {'Telestrations': -478744141127.7425}\n",
      "14 folds - Outlier games:\n",
      "\t {'Telestrations': 666547356829.3629}\n",
      "15 folds - Outlier games:\n",
      "\t {'Telestrations': 389913823866.2938}\n",
      "16 folds - Outlier games:\n",
      "\t {'Telestrations': -459739303811.30457}\n",
      "17 folds - Outlier games:\n",
      "\t {'Telestrations': 609424355658.1251}\n",
      "18 folds - Outlier games:\n",
      "\t {'Telestrations': -510654259360.9674}\n",
      "19 folds - Outlier games:\n",
      "\t {'Telestrations': 823778632578.0748}\n",
      "20 folds - Outlier games:\n",
      "\t {'Telestrations': 847768626104.5239}\n"
     ]
    }
   ],
   "source": [
    "# find_outlier_games returns {Game Name: Predicted Score} for any game\n",
    "# where predicted score is -20 < score < 20\n",
    "for i in range(2, 21):\n",
    "    outliers = find_outlier_games(X_train, y_train, names, i)\n",
    "    print(f'{i} folds - Outlier games:')\n",
    "    print('\\t', outliers)"
   ]
  },
  {
   "cell_type": "markdown",
   "metadata": {},
   "source": [
    "### Prediction outliers\n",
    "\n",
    "Depending on the amount of folds used, there can be more than one game receiving extreme predictions. However, no matter how many folds used, \"Telestrations\" always receives an extreme prediction.\n",
    "\n",
    "#### \"Telestrations\" options:\n",
    " 1) Remove it from analysis\n",
    " 2) Use a method, such as Principle Component Regression or Princible Least Squares Regression, to reduce the features the Linear Regression model predicts off.\n",
    "\n",
    "Some form of component reduction would be preferable if it would eleminate the need to remove games with anomalous predictions"
   ]
  },
  {
   "cell_type": "markdown",
   "metadata": {},
   "source": [
    "### Removing \"Telestrations\"\n",
    "\n",
    "First, let's see how the data fares without \"Telestrations\""
   ]
  },
  {
   "cell_type": "code",
   "execution_count": 14,
   "metadata": {},
   "outputs": [],
   "source": [
    "# Remove \"Telestrations\"\n",
    "\n",
    "# Find Index\n",
    "tele_idx = names[names['name']==\"Telestrations\"].index[0]\n",
    "\n",
    "# Remove Game\n",
    "X_train_no_tele = X_train.drop(index=tele_idx, axis=1).copy()\n",
    "y_train_no_tele = y_train.drop(index=tele_idx, axis=1).copy()"
   ]
  },
  {
   "cell_type": "code",
   "execution_count": 15,
   "metadata": {},
   "outputs": [
    {
     "data": {
      "text/plain": [
       "0.3725114418355854"
      ]
     },
     "execution_count": 15,
     "metadata": {},
     "output_type": "execute_result"
    }
   ],
   "source": [
    "# Find RMSE without \"Telestrations\"\n",
    "rmse_no_tele = kfold_validate_score(X_train_no_tele, y_train_no_tele)\n",
    "rmse_no_tele"
   ]
  },
  {
   "cell_type": "markdown",
   "metadata": {},
   "source": [
    "This is a much more reasonable RMSE. How does the reduced dataset perform on different slices?"
   ]
  },
  {
   "cell_type": "code",
   "execution_count": 16,
   "metadata": {},
   "outputs": [
    {
     "name": "stdout",
     "output_type": "stream",
     "text": [
      "2 folds - Outlier games:\n",
      "\t {'Diplomacy': 34465270.72912485, 'Blood on the Clocktower': 34465270.99074768, 'Ra': 836140140635.3322, 'The Estates': 836140140634.0626, 'Wings of War: Famous Aces': 2211862676045.985, 'Paths of Glory': 2211862676045.37, 'The Grizzled': 2211862676044.911, 'No Thanks!': 836140140633.9585, 'Cosmic Encounter': 34465270.59935191, 'History of the World': 2211862676044.9565, 'A Game of Thrones: The Board Game (Second Edition)': 34465271.01036336, 'Nightmare Productions': 836140140634.3998, 'Cosmic Encounter: 42nd Anniversary Edition': 34465270.9745848, 'Tiny Epic Kingdoms': 34465270.28527412, 'Citadels': -375813427.97197396, 'Arkham Horror': -375813427.9146027, 'Rhino Hero': -375813428.3995588}\n",
      "3 folds - Outlier games:\n",
      "\t {'Ra': 32003738494242.07, 'The Estates': 32003738494241.605, 'Wings of War: Famous Aces': 3090349478279.0234, 'Paths of Glory': 3090349478279.031, 'The Grizzled': 3090349478278.292, 'No Thanks!': 32003738494241.56, 'History of the World': 3090349478278.6685, 'Nightmare Productions': 32003738494241.883, 'Citadels': -1382122122.954582, 'Arkham Horror': -1382122122.8762336, 'Rhino Hero': -1382122123.404124}\n",
      "4 folds - Outlier games:\n",
      "\t {'Ra': 140005438935.21167, 'The Estates': 140005438934.87918, 'Wings of War: Famous Aces': -439148780165.64465, 'Paths of Glory': -439148780165.72925, 'The Grizzled': -439148780166.5821, 'No Thanks!': 140005438934.77637, 'History of the World': -439148780166.2015, 'Nightmare Productions': 140005438935.2795}\n",
      "5 folds - Outlier games:\n",
      "\t {}\n",
      "6 folds - Outlier games:\n",
      "\t {}\n",
      "7 folds - Outlier games:\n",
      "\t {}\n",
      "8 folds - Outlier games:\n",
      "\t {}\n",
      "9 folds - Outlier games:\n",
      "\t {'Wings of War: Famous Aces': 109684477521.61256, 'Paths of Glory': 109684477521.301, 'The Grizzled': 109684477520.4997, 'History of the World': 109684477520.79619}\n",
      "10 folds - Outlier games:\n",
      "\t {}\n",
      "11 folds - Outlier games:\n",
      "\t {}\n",
      "12 folds - Outlier games:\n",
      "\t {}\n",
      "13 folds - Outlier games:\n",
      "\t {}\n",
      "14 folds - Outlier games:\n",
      "\t {}\n",
      "15 folds - Outlier games:\n",
      "\t {}\n",
      "16 folds - Outlier games:\n",
      "\t {}\n",
      "17 folds - Outlier games:\n",
      "\t {}\n",
      "18 folds - Outlier games:\n",
      "\t {}\n",
      "19 folds - Outlier games:\n",
      "\t {}\n",
      "20 folds - Outlier games:\n",
      "\t {}\n"
     ]
    }
   ],
   "source": [
    "# find_outlier_games returns {Game Name: Predicted Score} for any game\n",
    "# where predicted score is -20 < score < 20\n",
    "for i in range(2, 21):\n",
    "    outliers = find_outlier_games(X_train_no_tele, y_train_no_tele, names, i)\n",
    "    print(f'{i} folds - Outlier games:')\n",
    "    print('\\t', outliers)"
   ]
  },
  {
   "cell_type": "markdown",
   "metadata": {},
   "source": [
    "There are still a number of anomalous results with some fold selections, but the majority of fold selections produce acceptable results."
   ]
  },
  {
   "cell_type": "markdown",
   "metadata": {},
   "source": [
    "### Initial Linear regression thoughts\n",
    "\n",
    "Linear regression by itself does not seem to be a good choice for the model. There is the possibility of predicting some very high or low predictions, depending on the training data used. There is also one game in the training data that absolutely is not predicted well. This has the potential to lead to very undesirable results in production."
   ]
  },
  {
   "cell_type": "markdown",
   "metadata": {},
   "source": [
    "## Lasso Regression"
   ]
  },
  {
   "cell_type": "code",
   "execution_count": 17,
   "metadata": {},
   "outputs": [
    {
     "data": {
      "text/plain": [
       "0.44399415165128775"
      ]
     },
     "execution_count": 17,
     "metadata": {},
     "output_type": "execute_result"
    }
   ],
   "source": [
    "# Find mean RMSE through lasso regression over 8 fold\n",
    "kfold_validate_score(X_train, y_train, model=Lasso())"
   ]
  },
  {
   "cell_type": "markdown",
   "metadata": {},
   "source": [
    "This returns a reasonable average RMSE, but it is higher than simple linear regression without \"Telestrations\""
   ]
  },
  {
   "cell_type": "markdown",
   "metadata": {},
   "source": [
    "### Without Telestrations"
   ]
  },
  {
   "cell_type": "code",
   "execution_count": 18,
   "metadata": {},
   "outputs": [
    {
     "data": {
      "text/plain": [
       "0.4441341478344593"
      ]
     },
     "execution_count": 18,
     "metadata": {},
     "output_type": "execute_result"
    }
   ],
   "source": [
    "# Find mean RMSE through lasso regression over 8 fold - without \"Telestrations\"\n",
    "kfold_validate_score(X_train_no_tele, y_train_no_tele, model=Lasso())"
   ]
  },
  {
   "cell_type": "markdown",
   "metadata": {},
   "source": [
    "No improvement."
   ]
  },
  {
   "cell_type": "markdown",
   "metadata": {},
   "source": [
    "## Principle Component Regression "
   ]
  },
  {
   "cell_type": "code",
   "execution_count": 19,
   "metadata": {},
   "outputs": [],
   "source": [
    "pca = PCA(random_state=42)\n",
    "\n",
    "X_reduced = pca.fit_transform(scale(X_train))"
   ]
  },
  {
   "cell_type": "code",
   "execution_count": 20,
   "metadata": {},
   "outputs": [],
   "source": [
    "# Investigate the variance accounted for by each principal component.\n",
    "\n",
    "# Define variace plot function\n",
    "def var_plot(pca, scree=True):\n",
    "    \"\"\"\n",
    "    Function takes a data frame and pca value and generates a plot\n",
    "    to show variane accounted for by principle components.\n",
    "    \n",
    "    ARGS:\n",
    "        pca: PCA object\n",
    "        scree: True for scree plot, False for simple bar graph\n",
    "    \n",
    "    RETURN:\n",
    "        none \n",
    "    \"\"\"\n",
    "    \n",
    "    var_ratio = pca.explained_variance_ratio_\n",
    "    num_components = np.arange(len(var_ratio))\n",
    "    cum_vals = np.cumsum(var_ratio)\n",
    "\n",
    "    plt.figure(figsize=(15, 6))\n",
    "    ax = plt.subplot(111)\n",
    "\n",
    "    ax.bar(num_components, var_ratio)\n",
    "    if scree:\n",
    "        ax.plot(num_components, cum_vals, color='r')\n",
    "        \n",
    "    ax.xaxis.set_tick_params(width=0)\n",
    "    ax.yaxis.set_tick_params(width=2, length=12)\n",
    " \n",
    "    ax.set_xlabel(\"Principal Component\")\n",
    "    ax.set_ylabel(\"Variance Explained (%)\")\n",
    "    plt.title('Explained Variance Per Principal Component')"
   ]
  },
  {
   "cell_type": "code",
   "execution_count": 21,
   "metadata": {},
   "outputs": [
    {
     "data": {
      "image/png": "[encoded data removed]",
      "text/plain": [
       "<Figure size 1080x432 with 1 Axes>"
      ]
     },
     "metadata": {
      "needs_background": "light"
     },
     "output_type": "display_data"
    }
   ],
   "source": [
    "var_plot(pca)"
   ]
  },
  {
   "cell_type": "code",
   "execution_count": 22,
   "metadata": {},
   "outputs": [
    {
     "data": {
      "image/png": "[encoded data removed]",
      "text/plain": [
       "<Figure size 1080x432 with 1 Axes>"
      ]
     },
     "metadata": {
      "needs_background": "light"
     },
     "output_type": "display_data"
    }
   ],
   "source": [
    "# Bar chart showing variance of PCA transformation with no paramaters\n",
    "var_plot(pca, scree=False)\n",
    "\n",
    "# Restrict the x-axis to allow a better view of the important data\n",
    "plt.xlim(-1,25.5);"
   ]
  },
  {
   "cell_type": "code",
   "execution_count": 23,
   "metadata": {},
   "outputs": [],
   "source": [
    "# Instatiate\n",
    "pca_9 = PCA(9, random_state=42)\n",
    "\n",
    "# Fit & Transform\n",
    "X_train_reduced_9 = pca_9.fit_transform(X_train)"
   ]
  },
  {
   "cell_type": "code",
   "execution_count": 24,
   "metadata": {},
   "outputs": [
    {
     "data": {
      "image/png": "[encoded data removed]",
      "text/plain": [
       "<Figure size 1080x432 with 1 Axes>"
      ]
     },
     "metadata": {
      "needs_background": "light"
     },
     "output_type": "display_data"
    }
   ],
   "source": [
    "var_plot(pca_9)"
   ]
  },
  {
   "cell_type": "code",
   "execution_count": 25,
   "metadata": {},
   "outputs": [
    {
     "data": {
      "text/plain": [
       "0.5091366269665709"
      ]
     },
     "execution_count": 25,
     "metadata": {},
     "output_type": "execute_result"
    }
   ],
   "source": [
    "# Total percentage of 9 principal components\n",
    "pca_9.explained_variance_ratio_.sum()"
   ]
  },
  {
   "cell_type": "markdown",
   "metadata": {},
   "source": [
    "50% of the variance is explained by 9 PCA components."
   ]
  },
  {
   "cell_type": "code",
   "execution_count": 39,
   "metadata": {},
   "outputs": [
    {
     "data": {
      "text/plain": [
       "0.3703550619452686"
      ]
     },
     "execution_count": 39,
     "metadata": {},
     "output_type": "execute_result"
    }
   ],
   "source": [
    "# Find mean RMSE for 9 PCs\n",
    "kfold_validate_score(X_reduced[:,:9], y_train)"
   ]
  },
  {
   "cell_type": "code",
   "execution_count": 44,
   "metadata": {},
   "outputs": [],
   "source": [
    "pca = PCA(random_state=42)\n",
    "\n",
    "X_reduced = pca.fit_transform(scale(X_train))\n",
    "\n",
    "pca_rmses = []\n",
    "\n",
    "#Check the first 25 principle components for RMSE\n",
    "for i in np.arange(1,26):\n",
    "    rmse = kfold_validate_score(X_reduced[:,:i], y_train)\n",
    "    pca_rmses.append(rmse)"
   ]
  },
  {
   "cell_type": "code",
   "execution_count": 45,
   "metadata": {},
   "outputs": [
    {
     "data": {
      "image/png": "[encoded data removed]",
      "text/plain": [
       "<Figure size 432x288 with 1 Axes>"
      ]
     },
     "metadata": {
      "needs_background": "light"
     },
     "output_type": "display_data"
    }
   ],
   "source": [
    "plt.plot(pca_rmses)\n",
    "plt.axhline(rmse_no_tele, color='r')\n",
    "\n",
    "plt.xlabel('Number of Principal Components')\n",
    "plt.ylabel('RMSE')\n",
    "plt.title('BGG Avg Score');"
   ]
  },
  {
   "cell_type": "markdown",
   "metadata": {},
   "source": [
    "At 5 Principle Components, the model is outperforming the baseline (Simple Linear Regression with \"Telestrations\" removed). At 10 Principle Components, the MSE appears to be stabilizing, with no significant increase in performance with added Principle Components.\n",
    "\n",
    "Also, this model is superior because no games have been ommited."
   ]
  },
  {
   "cell_type": "code",
   "execution_count": 29,
   "metadata": {},
   "outputs": [],
   "source": [
    "# Instatiate\n",
    "pca_10 = PCA(10, random_state=42)\n",
    "\n",
    "# Fit & Transformfrom sklearn.cross_decomposition import PLSRegression\n",
    "X_train_reduced_10 = pca_10.fit_transform(X_train)"
   ]
  },
  {
   "cell_type": "code",
   "execution_count": 30,
   "metadata": {},
   "outputs": [
    {
     "name": "stdout",
     "output_type": "stream",
     "text": [
      "2 folds - Outlier games:\n",
      "\t {}\n",
      "3 folds - Outlier games:\n",
      "\t {}\n",
      "4 folds - Outlier games:\n",
      "\t {}\n",
      "5 folds - Outlier games:\n",
      "\t {}\n",
      "6 folds - Outlier games:\n",
      "\t {}\n",
      "7 folds - Outlier games:\n",
      "\t {}\n",
      "8 folds - Outlier games:\n",
      "\t {}\n",
      "9 folds - Outlier games:\n",
      "\t {}\n",
      "10 folds - Outlier games:\n",
      "\t {}\n",
      "11 folds - Outlier games:\n",
      "\t {}\n",
      "12 folds - Outlier games:\n",
      "\t {}\n",
      "13 folds - Outlier games:\n",
      "\t {}\n",
      "14 folds - Outlier games:\n",
      "\t {}\n",
      "15 folds - Outlier games:\n",
      "\t {}\n",
      "16 folds - Outlier games:\n",
      "\t {}\n",
      "17 folds - Outlier games:\n",
      "\t {}\n",
      "18 folds - Outlier games:\n",
      "\t {}\n",
      "19 folds - Outlier games:\n",
      "\t {}\n",
      "20 folds - Outlier games:\n",
      "\t {}\n"
     ]
    }
   ],
   "source": [
    "# find if there are outlier games in different k-folds\n",
    "for i in range(2, 21):\n",
    "    outliers = find_outlier_games(X_train_reduced_10, y_train, names, i)\n",
    "    print(f'{i} folds - Outlier games:')\n",
    "    print('\\t', outliers)"
   ]
  },
  {
   "cell_type": "markdown",
   "metadata": {},
   "source": [
    "All games receive a resonable predictive score with PRC"
   ]
  },
  {
   "cell_type": "markdown",
   "metadata": {},
   "source": [
    "## Partial Least Squares Regression"
   ]
  },
  {
   "cell_type": "code",
   "execution_count": 46,
   "metadata": {},
   "outputs": [],
   "source": [
    "pls = PLSRegression(n_components=10)\n",
    "X_train_pls = pls.fit(X_train, y_train)"
   ]
  },
  {
   "cell_type": "code",
   "execution_count": 47,
   "metadata": {},
   "outputs": [],
   "source": [
    "X_train_pls = pls.transform(X_train)"
   ]
  },
  {
   "cell_type": "code",
   "execution_count": 48,
   "metadata": {},
   "outputs": [
    {
     "data": {
      "text/plain": [
       "0.2922127561217639"
      ]
     },
     "execution_count": 48,
     "metadata": {},
     "output_type": "execute_result"
    }
   ],
   "source": [
    "# Check mean RMSE for 10 PLS components\n",
    "rmse_pls = kfold_validate_score(X_train_pls, y_train)\n",
    "rmse_pls"
   ]
  },
  {
   "cell_type": "markdown",
   "metadata": {},
   "source": [
    "The RMSE is now below 0.30. This is a clear improvement using PLS."
   ]
  },
  {
   "cell_type": "code",
   "execution_count": 54,
   "metadata": {},
   "outputs": [],
   "source": [
    "pls_rmses = []\n",
    "\n",
    "#Check 1-25 PLS components for RMSE\n",
    "for i in np.arange(1,26):\n",
    "    pls = PLSRegression(n_components=i)\n",
    "\n",
    "    X_train_pls = pls.fit(X_train, y_train)\n",
    "    X_train_pls = pls.transform(X_train)\n",
    "    \n",
    "    rmse = kfold_validate_score(X_train_pls, y_train)\n",
    "    \n",
    "    pls_rmses.append(rmse)"
   ]
  },
  {
   "cell_type": "code",
   "execution_count": 55,
   "metadata": {},
   "outputs": [
    {
     "data": {
      "image/png": "[encoded data removed]",
      "text/plain": [
       "<Figure size 432x288 with 1 Axes>"
      ]
     },
     "metadata": {
      "needs_background": "light"
     },
     "output_type": "display_data"
    }
   ],
   "source": [
    "plt.plot(pls_rmses, label='PLS', color='orange')\n",
    "plt.axhline(rmse_no_tele, color='r')\n",
    "\n",
    "plt.xlabel('Number of PLS Components')\n",
    "plt.ylabel('RMSE')\n",
    "plt.title('BGG Avg Score');"
   ]
  },
  {
   "cell_type": "markdown",
   "metadata": {},
   "source": [
    "The \"elbow\" is around 4 PLS components, but the min is at 7 components, after which the RMSE starts increasing. This is a clear improvement over PCR."
   ]
  },
  {
   "cell_type": "code",
   "execution_count": 52,
   "metadata": {
    "scrolled": true
   },
   "outputs": [
    {
     "data": {
      "image/png": "[encoded data removed]",
      "text/plain": [
       "<Figure size 432x288 with 1 Axes>"
      ]
     },
     "metadata": {
      "needs_background": "light"
     },
     "output_type": "display_data"
    }
   ],
   "source": [
    "plt.plot(pca_rmses, label='PCA')\n",
    "plt.plot(pls_rmses, label='PLS', color='orange')\n",
    "plt.axhline(rmse_no_tele, color='r')\n",
    "\n",
    "plt.legend()\n",
    "plt.xlabel('Number ov Components')\n",
    "plt.ylabel('RMSE')\n",
    "plt.title('BGG Avg Score: PCA vs. PLS');"
   ]
  },
  {
   "cell_type": "markdown",
   "metadata": {},
   "source": [
    "Comparing the two reduction methods, PLS is the clear winner, reducing the RSME from the baseline by about 25%. PCA at its best remains around the baseline, only reducing it by about 4%"
   ]
  },
  {
   "cell_type": "code",
   "execution_count": 37,
   "metadata": {},
   "outputs": [],
   "source": [
    "pls = PLSRegression(n_components=7)\n",
    "X_train_pls = pls.fit(X_train, y_train)\n",
    "X_train_pls = pls.transform(X_train)"
   ]
  },
  {
   "cell_type": "code",
   "execution_count": 38,
   "metadata": {},
   "outputs": [
    {
     "name": "stdout",
     "output_type": "stream",
     "text": [
      "2 folds - Outlier games:\n",
      "\t {}\n",
      "3 folds - Outlier games:\n",
      "\t {}\n",
      "4 folds - Outlier games:\n",
      "\t {}\n",
      "5 folds - Outlier games:\n",
      "\t {}\n",
      "6 folds - Outlier games:\n",
      "\t {}\n",
      "7 folds - Outlier games:\n",
      "\t {}\n",
      "8 folds - Outlier games:\n",
      "\t {}\n",
      "9 folds - Outlier games:\n",
      "\t {}\n",
      "10 folds - Outlier games:\n",
      "\t {}\n",
      "11 folds - Outlier games:\n",
      "\t {}\n",
      "12 folds - Outlier games:\n",
      "\t {}\n",
      "13 folds - Outlier games:\n",
      "\t {}\n",
      "14 folds - Outlier games:\n",
      "\t {}\n",
      "15 folds - Outlier games:\n",
      "\t {}\n",
      "16 folds - Outlier games:\n",
      "\t {}\n",
      "17 folds - Outlier games:\n",
      "\t {}\n",
      "18 folds - Outlier games:\n",
      "\t {}\n",
      "19 folds - Outlier games:\n",
      "\t {}\n",
      "20 folds - Outlier games:\n",
      "\t {}\n"
     ]
    }
   ],
   "source": [
    "# find if there are outlier games in different k-folds\n",
    "for i in range(2, 21):\n",
    "    outliers = find_outlier_games(X_train_pls, y_train, names, i)\n",
    "    print(f'{i} folds - Outlier games:')\n",
    "    print('\\t', outliers)"
   ]
  },
  {
   "cell_type": "code",
   "execution_count": 53,
   "metadata": {},
   "outputs": [
    {
     "data": {
      "text/plain": [
       "0.44399415165128775"
      ]
     },
     "execution_count": 53,
     "metadata": {},
     "output_type": "execute_result"
    }
   ],
   "source": [
    "# PLS regression with 7 components - Lasso regression model\n",
    "rmse_pls_lasso = kfold_validate_score(X_train_pls, y_train, model=Lasso())\n",
    "rmse_pls_lasso"
   ]
  },
  {
   "cell_type": "markdown",
   "metadata": {},
   "source": [
    "Like it was before feature reduction, lasso regression has an average RMSE of about 0.44"
   ]
  },
  {
   "cell_type": "code",
   "execution_count": 56,
   "metadata": {},
   "outputs": [],
   "source": [
    "pls_lasso_rmses = []\n",
    "\n",
    "#Check 1-25 PLS components for RMSE\n",
    "for i in np.arange(1,26):\n",
    "    pls = PLSRegression(n_components=i)\n",
    "\n",
    "    X_train_pls = pls.fit(X_train, y_train)\n",
    "    X_train_pls = pls.transform(X_train)\n",
    "    \n",
    "    rmse = kfold_validate_score(X_train_pls, y_train, model=Lasso())\n",
    "    \n",
    "    pls_lasso_rmses.append(rmse)"
   ]
  },
  {
   "cell_type": "code",
   "execution_count": 57,
   "metadata": {},
   "outputs": [
    {
     "data": {
      "image/png": "[encoded data removed]",
      "text/plain": [
       "<Figure size 432x288 with 1 Axes>"
      ]
     },
     "metadata": {
      "needs_background": "light"
     },
     "output_type": "display_data"
    }
   ],
   "source": [
    "plt.plot(pls_lasso_rmses, label='PLS', color='orange')\n",
    "plt.axhline(rmse_no_tele, color='r')\n",
    "\n",
    "plt.xlabel('Number of PLS Components')\n",
    "plt.ylabel('RMSE')\n",
    "plt.title('BGG Avg Score');"
   ]
  },
  {
   "cell_type": "markdown",
   "metadata": {},
   "source": [
    "There is no change to the mean RMSE depending on the number pf PLS Components"
   ]
  },
  {
   "cell_type": "code",
   "execution_count": null,
   "metadata": {},
   "outputs": [],
   "source": []
  }
 ],
 "metadata": {
  "kernelspec": {
   "display_name": "Python 3",
   "language": "python",
   "name": "python3"
  },
  "language_info": {
   "codemirror_mode": {
    "name": "ipython",
    "version": 3
   },
   "file_extension": ".py",
   "mimetype": "text/x-python",
   "name": "python",
   "nbconvert_exporter": "python",
   "pygments_lexer": "ipython3",
   "version": "3.7.2"
  }
 },
 "nbformat": 4,
 "nbformat_minor": 5
}
