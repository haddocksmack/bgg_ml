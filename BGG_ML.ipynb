{
 "cells": [
  {
   "cell_type": "code",
   "execution_count": 1,
   "metadata": {},
   "outputs": [],
   "source": [
    "import pandas as pd\n",
    "import numpy as np\n",
    "\n",
    "from sklearn.model_selection import train_test_split, KFold, cross_val_score, cross_val_predict, cross_validate\n",
    "from sklearn.linear_model import LinearRegression\n",
    "\n",
    "from helper_functions import find_outlier_games"
   ]
  },
  {
   "cell_type": "code",
   "execution_count": 2,
   "metadata": {},
   "outputs": [],
   "source": [
    "# Import processed data from EDA notebook\n",
    "bgg = pd.read_csv('bgg_processed.csv', index_col='game_id')"
   ]
  },
  {
   "cell_type": "code",
   "execution_count": 3,
   "metadata": {},
   "outputs": [],
   "source": [
    "# Split off target column: `avg_rating`\n",
    "y = bgg['avg_rating']\n",
    "X = bgg.drop('avg_rating', axis=1).copy()"
   ]
  },
  {
   "cell_type": "code",
   "execution_count": 4,
   "metadata": {},
   "outputs": [],
   "source": [
    "# Split into training and testing sets\n",
    "X_train, X_test, y_train, y_test = train_test_split(\n",
    "    X, y, test_size=0.2, random_state=42\n",
    ")"
   ]
  },
  {
   "cell_type": "markdown",
   "metadata": {},
   "source": [
    "## Initial linear regression\n",
    "\n",
    "First let's see how simple linear regression fairs. There are 2000 entries in the original data, so the train/test split leaves 1600 rows in the training data. 8 splits for K-Fold cross validation should ve sufficient so each slice is 200 rows. The rows were already shuffled with the train/test split, so they don't need shuffled again."
   ]
  },
  {
   "cell_type": "code",
   "execution_count": 5,
   "metadata": {},
   "outputs": [
    {
     "data": {
      "text/plain": [
       "4825688010.338199"
      ]
     },
     "execution_count": 5,
     "metadata": {},
     "output_type": "execute_result"
    }
   ],
   "source": [
    "# K-Fold cross validation\n",
    "cv = KFold(n_splits=8)\n",
    "\n",
    "model = LinearRegression()\n",
    "\n",
    "scores = cross_val_score(\n",
    "    model,\n",
    "    X_train,\n",
    "    y_train,\n",
    "    scoring='neg_mean_squared_error',\n",
    "    cv=cv\n",
    ")\n",
    "\n",
    "# Find RMSE\n",
    "rmse = np.mean(np.sqrt(np.absolute(scores)))\n",
    "rmse"
   ]
  },
  {
   "cell_type": "markdown",
   "metadata": {},
   "source": [
    "Clearly, something isn't optimal. The range between the minimum score and maximum score is 2.7 points. We'd want the average RMSE to be smaller than this range, not 20 billion."
   ]
  },
  {
   "cell_type": "code",
   "execution_count": 6,
   "metadata": {},
   "outputs": [
    {
     "name": "stdout",
     "output_type": "stream",
     "text": [
      "Slice 0 RMSE: 0.4454752813646904\n",
      "Slice 1 RMSE: 0.3831761390119256\n",
      "Slice 2 RMSE: 0.37414147279706716\n",
      "Slice 3 RMSE: 0.36228473775631465\n",
      "Slice 4 RMSE: 0.3181274758904935\n",
      "Slice 5 RMSE: 0.36160802641093226\n",
      "Slice 6 RMSE: 0.39168740199763713\n",
      "Slice 7 RMSE: 38605504080.06909\n"
     ]
    }
   ],
   "source": [
    "# Look at scores from each split\n",
    "for i in scores:\n",
    "    score = np.sqrt(np.absolute(i))\n",
    "    print(f'Slice {list(scores).index(i)} RMSE: {score}')"
   ]
  },
  {
   "cell_type": "markdown",
   "metadata": {},
   "source": [
    "There is something in the 8th slice that is going wrong. Let's dig in a little to see what it is. First, we need to see what the CV is actually predicting:"
   ]
  },
  {
   "cell_type": "code",
   "execution_count": 7,
   "metadata": {},
   "outputs": [],
   "source": [
    "# Generate predictions from the cross validation\n",
    "preds = cross_val_predict(\n",
    "    model,\n",
    "    X_train,\n",
    "    y_train,\n",
    "    cv=cv\n",
    ")"
   ]
  },
  {
   "cell_type": "code",
   "execution_count": 8,
   "metadata": {},
   "outputs": [
    {
     "data": {
      "text/plain": [
       "array([7.18031593, 7.14230428, 6.73584719, ..., 7.52143596, 7.22272989,\n",
       "       7.19186905])"
      ]
     },
     "execution_count": 8,
     "metadata": {},
     "output_type": "execute_result"
    }
   ],
   "source": [
    "preds"
   ]
  },
  {
   "cell_type": "code",
   "execution_count": 9,
   "metadata": {},
   "outputs": [
    {
     "name": "stdout",
     "output_type": "stream",
     "text": [
      "Max prediction: 545964274530.2242\n",
      "Min prediction: 5.799880689399389\n"
     ]
    }
   ],
   "source": [
    "print(f'Max prediction: {np.max(preds)}\\nMin prediction: {np.min(preds)}')"
   ]
  },
  {
   "cell_type": "markdown",
   "metadata": {},
   "source": [
    "It looks like the highest prediction is within reason. Ideally, we'd want it below 10, but it isn't too far off. The lowest prediction is causing a problem."
   ]
  },
  {
   "cell_type": "code",
   "execution_count": 10,
   "metadata": {},
   "outputs": [
    {
     "data": {
      "text/plain": [
       "46213"
      ]
     },
     "execution_count": 10,
     "metadata": {},
     "output_type": "execute_result"
    }
   ],
   "source": [
    "# Find entry of smallest prediction\n",
    "X_train.iloc[[list(preds).index(np.max(preds))]].index[0]"
   ]
  },
  {
   "cell_type": "code",
   "execution_count": 11,
   "metadata": {},
   "outputs": [
    {
     "data": {
      "text/plain": [
       "'Telestrations'"
      ]
     },
     "execution_count": 11,
     "metadata": {},
     "output_type": "execute_result"
    }
   ],
   "source": [
    "# Load the names df\n",
    "names = pd.read_csv('bgg_names.csv', index_col='game_id')\n",
    "\n",
    "# Find name of game causing the issue\n",
    "names.loc[46213][1]"
   ]
  },
  {
   "cell_type": "markdown",
   "metadata": {},
   "source": [
    "The model is predicting a very anomalous result for the game called \"Telestrations\". Is this a result that is specific for 8 k-fold slices?"
   ]
  },
  {
   "cell_type": "code",
   "execution_count": 12,
   "metadata": {},
   "outputs": [
    {
     "name": "stdout",
     "output_type": "stream",
     "text": [
      "2 folds:\n",
      "\tOutlier games:\n",
      "\t {}\n",
      "3 folds:\n",
      "\tOutlier games:\n",
      "\t {}\n",
      "4 folds:\n",
      "\tOutlier games:\n",
      "\t {}\n",
      "5 folds:\n",
      "\tOutlier games:\n",
      "\t {}\n",
      "6 folds:\n",
      "\tOutlier games:\n",
      "\t {}\n",
      "7 folds:\n",
      "\tOutlier games:\n",
      "\t {}\n",
      "8 folds:\n",
      "\tOutlier games:\n",
      "\t {}\n"
     ]
    }
   ],
   "source": [
    "for i in range(2, 9):\n",
    "    outliers = find_outlier_games(X_train, y_train, names, i)\n",
    "    print(f'{i} folds:')\n",
    "    print('\\tOutlier games:')\n",
    "    print('\\t', outliers)"
   ]
  },
  {
   "cell_type": "code",
   "execution_count": 13,
   "metadata": {},
   "outputs": [],
   "source": [
    "# Use `cross_validate` instead - may delete later\n",
    "kf = KFold(n_splits=8)\n",
    "    \n",
    "model = LinearRegression()\n",
    "\n",
    "scores = cross_validate(model, X_train, y_train, scoring='neg_mean_squared_error',\n",
    "                         cv=kf, return_train_score=True)\n"
   ]
  },
  {
   "cell_type": "code",
   "execution_count": 14,
   "metadata": {},
   "outputs": [
    {
     "data": {
      "text/plain": [
       "13649106863.070892"
      ]
     },
     "execution_count": 14,
     "metadata": {},
     "output_type": "execute_result"
    }
   ],
   "source": [
    "np.sqrt(np.absolute(scores['test_score'].mean()))"
   ]
  },
  {
   "cell_type": "code",
   "execution_count": 15,
   "metadata": {},
   "outputs": [
    {
     "data": {
      "text/plain": [
       "{'fit_time': array([0.12012172, 0.10081029, 0.09701681, 0.09751463, 0.0964694 ,\n",
       "        0.09616995, 0.09746647, 0.09464836]),\n",
       " 'score_time': array([0.00398755, 0.00398874, 0.00398946, 0.00398898, 0.00322652,\n",
       "        0.00456572, 0.00406599, 0.00398946]),\n",
       " 'test_score': array([-1.98448226e-01, -1.46823954e-01, -1.39981842e-01, -1.31250231e-01,\n",
       "        -1.01205091e-01, -1.30760365e-01, -1.53419021e-01, -1.49038495e+21]),\n",
       " 'train_score': array([-0.0816828 , -0.08181892, -0.07979048, -0.08114058, -0.08439798,\n",
       "        -0.0810409 , -0.07993021, -0.08299909])}"
      ]
     },
     "execution_count": 15,
     "metadata": {},
     "output_type": "execute_result"
    }
   ],
   "source": [
    "scores"
   ]
  },
  {
   "cell_type": "code",
   "execution_count": null,
   "metadata": {},
   "outputs": [],
   "source": []
  }
 ],
 "metadata": {
  "kernelspec": {
   "display_name": "Python 3",
   "language": "python",
   "name": "python3"
  },
  "language_info": {
   "codemirror_mode": {
    "name": "ipython",
    "version": 3
   },
   "file_extension": ".py",
   "mimetype": "text/x-python",
   "name": "python",
   "nbconvert_exporter": "python",
   "pygments_lexer": "ipython3",
   "version": "3.7.2"
  }
 },
 "nbformat": 4,
 "nbformat_minor": 5
}
