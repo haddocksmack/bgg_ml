{
 "cells": [
  {
   "cell_type": "code",
   "execution_count": 2,
   "metadata": {},
   "outputs": [],
   "source": [
    "import pandas as pd\n",
    "import numpy as np\n",
    "import matplotlib.pyplot as plt\n",
    "import pickle\n",
    "%matplotlib inline\n",
    "\n",
    "from sklearn.model_selection import train_test_split, KFold, cross_val_score, cross_val_predict, cross_validate\n",
    "from sklearn.linear_model import LinearRegression, Lasso, LassoCV, Ridge, RidgeCV\n",
    "from sklearn.svm import SVR\n",
    "from sklearn.decomposition import PCA\n",
    "from sklearn.cross_decomposition import PLSRegression\n",
    "from sklearn.metrics import mean_squared_error, r2_score\n",
    "from sklearn.model_selection import GridSearchCV\n",
    "\n",
    "from helper_functions import (full_training_set_scores,\n",
    "                              print_scores,\n",
    "                              kfold_validate_score,\n",
    "                              component_reduction,\n",
    "                              add_baselines,\n",
    "                              pls_comp_list)"
   ]
  },
  {
   "cell_type": "markdown",
   "metadata": {},
   "source": [
    "## Import Data and Split into Training/Test Sets"
   ]
  },
  {
   "cell_type": "code",
   "execution_count": 3,
   "metadata": {},
   "outputs": [],
   "source": [
    "# Import processed data from EDA notebook\n",
    "bgg = pd.read_csv('./data/bgg_processed.csv', index_col='game_id')"
   ]
  },
  {
   "cell_type": "code",
   "execution_count": 4,
   "metadata": {},
   "outputs": [],
   "source": [
    "# Split off target column: `avg_rating`\n",
    "y = bgg['avg_rating']\n",
    "X = bgg.drop('avg_rating', axis=1).copy()"
   ]
  },
  {
   "cell_type": "code",
   "execution_count": 5,
   "metadata": {},
   "outputs": [],
   "source": [
    "# set random state value for all that need it\n",
    "rs = 37"
   ]
  },
  {
   "cell_type": "code",
   "execution_count": 6,
   "metadata": {},
   "outputs": [],
   "source": [
    "# Split into training and testing sets\n",
    "X_train, X_test, y_train, y_test = train_test_split(\n",
    "    X, y, test_size=0.2, random_state=rs\n",
    ")"
   ]
  },
  {
   "cell_type": "markdown",
   "metadata": {},
   "source": [
    "## Initial linear regression\n",
    "\n",
    "First let's see how simple linear regression fares. For these first examples, the model will train and predict on the entire training set. This can lead to overfitting, but these examples should give us some indication about which models are able to fit and predict the data the best."
   ]
  },
  {
   "cell_type": "code",
   "execution_count": 6,
   "metadata": {},
   "outputs": [],
   "source": [
    "# Fit and score linear regression\n",
    "linear = LinearRegression().fit(X_train, y_train)\n",
    "\n",
    "linear_r2, linear_rmse = full_training_set_scores(X_train, y_train, linear)"
   ]
  },
  {
   "cell_type": "code",
   "execution_count": 7,
   "metadata": {},
   "outputs": [
    {
     "name": "stdout",
     "output_type": "stream",
     "text": [
      "Simple Linear Regression:\n",
      "\n",
      "R-squared:     0.5613\n",
      "RMSE:          0.2961\n"
     ]
    }
   ],
   "source": [
    "print_scores(linear_r2, linear_rmse, \"Simple Linear Regression\")"
   ]
  },
  {
   "cell_type": "code",
   "execution_count": 20,
   "metadata": {},
   "outputs": [
    {
     "name": "stdout",
     "output_type": "stream",
     "text": [
      "The actual range of scores is: 2.8474\n"
     ]
    }
   ],
   "source": [
    "score_range = y.max() - y.min()\n",
    "print(f'The actual range of scores is: {score_range:.5}')"
   ]
  },
  {
   "cell_type": "markdown",
   "metadata": {},
   "source": [
    "### Linear Regression on the full test set:\n",
    "\n",
    "The R-squared value is above 0.5, which shows the prediction line fits fairly well to the data. The RMSE is 0.29, which is just over 10% of the total range. These are pretty good initial results. The goal going forward will be to improve these numbers."
   ]
  },
  {
   "cell_type": "markdown",
   "metadata": {},
   "source": [
    "## Lasso Regression\n",
    "\n",
    "After basic linear regression, we will examine related models: lasso and ridge regression."
   ]
  },
  {
   "cell_type": "code",
   "execution_count": 9,
   "metadata": {},
   "outputs": [],
   "source": [
    "# Fit and score lasso regression\n",
    "lasso = Lasso(random_state=rs).fit(X_train, y_train)\n",
    "\n",
    "lasso_r2, lasso_rmse = full_training_set_scores(X_train, y_train, lasso)"
   ]
  },
  {
   "cell_type": "code",
   "execution_count": 10,
   "metadata": {},
   "outputs": [
    {
     "name": "stdout",
     "output_type": "stream",
     "text": [
      "Simple Lasso Regression:\n",
      "\n",
      "R-squared:     0.0\n",
      "RMSE:          0.447\n"
     ]
    }
   ],
   "source": [
    "print_scores(lasso_r2, lasso_rmse, \"Simple Lasso Regression\")"
   ]
  },
  {
   "cell_type": "markdown",
   "metadata": {},
   "source": [
    "### Lasso Regression on the full test set:\n",
    "\n",
    "The R-squared is zero, so this line does not fit the data at all. The RMSE is a much higher 0.44. Lasso Regression may be removed as a potential model."
   ]
  },
  {
   "cell_type": "markdown",
   "metadata": {},
   "source": [
    "## Ridge Regression"
   ]
  },
  {
   "cell_type": "code",
   "execution_count": 11,
   "metadata": {},
   "outputs": [],
   "source": [
    "# Fit and score ridge regression\n",
    "ridge = Ridge(random_state=rs).fit(X_train, y_train)\n",
    "\n",
    "ridge_r2, ridge_rmse = full_training_set_scores(X_train, y_train, ridge)"
   ]
  },
  {
   "cell_type": "code",
   "execution_count": 12,
   "metadata": {},
   "outputs": [
    {
     "name": "stdout",
     "output_type": "stream",
     "text": [
      "Simple Ridge Regression:\n",
      "\n",
      "R-squared:     0.5599\n",
      "RMSE:          0.2966\n"
     ]
    }
   ],
   "source": [
    "print_scores(ridge_r2, ridge_rmse, \"Simple Ridge Regression\")"
   ]
  },
  {
   "cell_type": "markdown",
   "metadata": {},
   "source": [
    "### Ridge Regression on the full test set:\n",
    "\n",
    "The R-squared and RMSE scores are extremely close to the scores of simple linear regression. There have been no parameters set, so there may be room for improvement here."
   ]
  },
  {
   "cell_type": "markdown",
   "metadata": {},
   "source": [
    "## Support Vector Regression\n",
    "\n",
    "Using support vector regression, we can look at higher degree predictive lines easily (the line to fit the data can be curved rather than straight). \n",
    "\n",
    "Let's test the data on three kernels: linear (straight line), RBF (exponential curve), and poly (polynomial curve). Care must be taken to avoid overfitting, which can be a concern if the degree of the curves gets too high. For these first models, the default degree of 3 will be used."
   ]
  },
  {
   "cell_type": "code",
   "execution_count": 13,
   "metadata": {},
   "outputs": [],
   "source": [
    "svr = SVR(kernel='linear').fit(X_train, y_train)\n",
    "\n",
    "svr_r2, svr_rmse = full_training_set_scores(X_train, y_train, svr)"
   ]
  },
  {
   "cell_type": "code",
   "execution_count": 14,
   "metadata": {},
   "outputs": [
    {
     "name": "stdout",
     "output_type": "stream",
     "text": [
      "Support Vector Regression - Linear:\n",
      "\n",
      "R-squared:     0.5327\n",
      "RMSE:          0.3056\n"
     ]
    }
   ],
   "source": [
    "print_scores(svr_r2, svr_rmse, \"Support Vector Regression - Linear\")"
   ]
  },
  {
   "cell_type": "code",
   "execution_count": 15,
   "metadata": {},
   "outputs": [],
   "source": [
    "svr = SVR(kernel='rbf').fit(X_train, y_train)\n",
    "\n",
    "svr_r2, svr_rmse = full_training_set_scores(X_train, y_train, svr)"
   ]
  },
  {
   "cell_type": "code",
   "execution_count": 16,
   "metadata": {},
   "outputs": [
    {
     "name": "stdout",
     "output_type": "stream",
     "text": [
      "Support Vector Regression - RBF:\n",
      "\n",
      "R-squared:     0.8807\n",
      "RMSE:          0.1544\n"
     ]
    }
   ],
   "source": [
    "print_scores(svr_r2, svr_rmse, \"Support Vector Regression - RBF\")"
   ]
  },
  {
   "cell_type": "code",
   "execution_count": 17,
   "metadata": {},
   "outputs": [],
   "source": [
    "svr = SVR(kernel='poly').fit(X_train, y_train)\n",
    "\n",
    "svr_r2, svr_rmse = full_training_set_scores(X_train, y_train, svr)"
   ]
  },
  {
   "cell_type": "code",
   "execution_count": 18,
   "metadata": {},
   "outputs": [
    {
     "name": "stdout",
     "output_type": "stream",
     "text": [
      "Support Vector Regression - Poly:\n",
      "\n",
      "R-squared:     0.8733\n",
      "RMSE:          0.1591\n"
     ]
    }
   ],
   "source": [
    "print_scores(svr_r2, svr_rmse, \"Support Vector Regression - Poly\")"
   ]
  },
  {
   "cell_type": "markdown",
   "metadata": {},
   "source": [
    "### Support Vector Regression on the full test set:\n",
    "\n",
    "Using a linear kernel with Support Vector Regression returns similar results as linear and ridge regression. However, the results are much improved when using RBF or Poly kernels. RBF is a squared exponential kernel, so an exponential or polynomal line seems to be a much better fit for the data.\n",
    "\n",
    "With all of these models being trained and tested on themselves, there is the danger of over-fitting, so cross-validation will help reduce that danger."
   ]
  },
  {
   "cell_type": "markdown",
   "metadata": {},
   "source": [
    "## Cross-Validation\n",
    "\n",
    "There are 2000 entries in the original data, so the train/test split leaves 1600 rows in the training data. 8 splits for K-Fold cross validation should be sufficient so each slice is 200 rows. The rows were already shuffled with the train/test split, so they don't need shuffled again.\n",
    "\n",
    "Cross-validation is important to keep the model from overfitting the data."
   ]
  },
  {
   "cell_type": "code",
   "execution_count": 19,
   "metadata": {},
   "outputs": [
    {
     "name": "stdout",
     "output_type": "stream",
     "text": [
      "Linear Regression Cross-Validation:\n",
      "\n",
      "R-squared:     1.146e+22\n",
      "RMSE:          2.356e+10\n"
     ]
    }
   ],
   "source": [
    "# Select model for CV\n",
    "linear_cv = LinearRegression()\n",
    "\n",
    "# Return R-squared and RMSE with custom function\n",
    "linear_cv_r2, linear_cv_rmse = kfold_validate_score(X_train, y_train, model=linear_cv)\n",
    "\n",
    "# Print Average R-Squared and Average RMSE scores returned from CV\n",
    "print_scores(linear_cv_r2, linear_cv_rmse, \"Linear Regression Cross-Validation\")"
   ]
  },
  {
   "cell_type": "markdown",
   "metadata": {},
   "source": [
    "Cross-validation with linear regression returns some truely problematic results. An average R-squared value of 16 sextillion and an average RMSE over 20 billion show that linear regression is not suitable to predict on the dataset."
   ]
  },
  {
   "cell_type": "markdown",
   "metadata": {},
   "source": [
    "## Lasso Regression\n",
    "\n",
    "How do other methods of regression fare? First let's look at Lasso Regression:"
   ]
  },
  {
   "cell_type": "code",
   "execution_count": 20,
   "metadata": {},
   "outputs": [
    {
     "name": "stdout",
     "output_type": "stream",
     "text": [
      "Lasso Regression Cross-Validation:\n",
      "\n",
      "R-squared:     0.005875\n",
      "RMSE:          0.4467\n"
     ]
    }
   ],
   "source": [
    "# Find mean RMSE through lasso regression over 8 fold\n",
    "lasso_cv = Lasso(random_state=rs)\n",
    "\n",
    "lasso_cv_r2, lasso_cv_rmse = kfold_validate_score(X_train, y_train, model=lasso_cv)\n",
    "\n",
    "print_scores(lasso_cv_r2, lasso_cv_rmse, \"Lasso Regression Cross-Validation\")"
   ]
  },
  {
   "cell_type": "markdown",
   "metadata": {},
   "source": [
    "Basic Lasso Regression has a reasonable average RMSE, but an average R-squared in the negative, so it also doesn't seem to fit the data well. This result along with the above result, where lasso regression predicted poorly on the full training set, rule out this model being selected for the final model."
   ]
  },
  {
   "cell_type": "markdown",
   "metadata": {},
   "source": [
    "## Ridge Regression"
   ]
  },
  {
   "cell_type": "code",
   "execution_count": 21,
   "metadata": {},
   "outputs": [
    {
     "name": "stdout",
     "output_type": "stream",
     "text": [
      "Ridge Regression Cross-Validation:\n",
      "\n",
      "R-squared:     -0.3829\n",
      "RMSE:          0.349\n"
     ]
    }
   ],
   "source": [
    "# Find mean RMSE through ridge regression over 8 fold\n",
    "ridge_cv = Ridge(random_state=rs)\n",
    "\n",
    "ridge_cv_r2, ridge_cv_rmse = kfold_validate_score(X_train, y_train, model=ridge_cv)\n",
    "\n",
    "print_scores(ridge_cv_r2, ridge_cv_rmse, \"Ridge Regression Cross-Validation\")"
   ]
  },
  {
   "cell_type": "markdown",
   "metadata": {},
   "source": [
    "Ridge regression is a sligtly better than lasso with average RMSE, but the average R-squared value is showing it isn't the best fit."
   ]
  },
  {
   "cell_type": "markdown",
   "metadata": {},
   "source": [
    "## SVR"
   ]
  },
  {
   "cell_type": "code",
   "execution_count": 22,
   "metadata": {},
   "outputs": [
    {
     "name": "stdout",
     "output_type": "stream",
     "text": [
      "SVR - Linear Cross-Validation:\n",
      "\n",
      "R-squared:     -0.3391\n",
      "RMSE:          0.3609\n"
     ]
    }
   ],
   "source": [
    "# Find mean RMSE through SVR Linear regression over 8 fold\n",
    "svr_linear_cv = SVR(kernel='linear')\n",
    "\n",
    "svr_linear_cv_r2, svr_linear_cv_rmse = kfold_validate_score(X_train, y_train, model=svr_linear_cv)\n",
    "\n",
    "print_scores(svr_linear_cv_r2, svr_linear_cv_rmse, \"SVR - Linear Cross-Validation\")"
   ]
  },
  {
   "cell_type": "code",
   "execution_count": 23,
   "metadata": {},
   "outputs": [
    {
     "name": "stdout",
     "output_type": "stream",
     "text": [
      "SVR - Poly Cross-Validation:\n",
      "\n",
      "R-squared:     6.399\n",
      "RMSE:          0.6973\n"
     ]
    }
   ],
   "source": [
    "# Find mean RMSE through SVR Linear regression over 8 fold\n",
    "svr_poly_cv = SVR(kernel='poly')\n",
    "\n",
    "svr_poly_cv_r2, svr_poly_cv_rmse = kfold_validate_score(X_train, y_train, model=svr_poly_cv)\n",
    "\n",
    "print_scores(svr_poly_cv_r2, svr_poly_cv_rmse, \"SVR - Poly Cross-Validation\")"
   ]
  },
  {
   "cell_type": "code",
   "execution_count": 24,
   "metadata": {},
   "outputs": [
    {
     "name": "stdout",
     "output_type": "stream",
     "text": [
      "SVR - RBF Cross-Validation:\n",
      "\n",
      "R-squared:     -0.4882\n",
      "RMSE:          0.3179\n"
     ]
    }
   ],
   "source": [
    "# Find mean RMSE through SVR Linear regression over 8 fold\n",
    "svr_rbf_cv = SVR(kernel='rbf')\n",
    "\n",
    "svr_rbf_cv_r2, svr_rbf_cv_rmse = kfold_validate_score(X_train, y_train, model=svr_rbf_cv)\n",
    "\n",
    "print_scores(svr_rbf_cv_r2, svr_rbf_cv_rmse, \"SVR - RBF Cross-Validation\")"
   ]
  },
  {
   "cell_type": "markdown",
   "metadata": {},
   "source": [
    "As suspected from the above results, it seems that SVR overfit on itself, but using cross-validation reveals the model does not work as well as intially thought. A polynomial degree kernel is the worst, but the linear and RBF kernels performed better that the lasso and ridge regression, and definitely better than linear regression."
   ]
  },
  {
   "cell_type": "markdown",
   "metadata": {},
   "source": [
    "## Principle Component Regression\n",
    "\n",
    "Principle Component Analysis (PCA) takes a data set with a high number of features and reduces the number of features by creating new components that are weighted for each variable. This is a method that uses unsupervised clustering, so it will create components with weights on features that are similar to each other, but since this is unsupervised, it may not create components that help make better predictions.\n",
    "\n",
    "Principle Component Regression is the technique to use PCA to make new components and make predictions using these new components."
   ]
  },
  {
   "cell_type": "markdown",
   "metadata": {},
   "source": [
    "### Linear Regression with PCA reduction"
   ]
  },
  {
   "cell_type": "code",
   "execution_count": 29,
   "metadata": {},
   "outputs": [],
   "source": [
    "linear_pca = LinearRegression()\n",
    "\n",
    "# Fit 50 components with PCA and run with Linear Regression\n",
    "linear_pca_rmses = component_reduction(X_train, y_train, linear_pca, max_components=50, pca=True)"
   ]
  },
  {
   "cell_type": "code",
   "execution_count": 30,
   "metadata": {},
   "outputs": [],
   "source": [
    "baselines = {\n",
    "    'SVR': svr_rbf_cv_rmse,\n",
    "    'Lasso': lasso_cv_rmse,\n",
    "    'Ridge': ridge_cv_rmse\n",
    "}"
   ]
  },
  {
   "cell_type": "code",
   "execution_count": 31,
   "metadata": {},
   "outputs": [
    {
     "data": {
      "image/png": "[encoded data removed]",
      "text/plain": [
       "<Figure size 432x288 with 1 Axes>"
      ]
     },
     "metadata": {
      "needs_background": "light"
     },
     "output_type": "display_data"
    }
   ],
   "source": [
    "# add baselines\n",
    "add_baselines(baselines)\n",
    "\n",
    "plt.plot(linear_pca_rmses)\n",
    "\n",
    "plt.xlabel('Number of Principal Components')\n",
    "plt.ylabel('RMSE')\n",
    "plt.title('Linear Regression PCA Reduction RSME');"
   ]
  },
  {
   "cell_type": "markdown",
   "metadata": {},
   "source": [
    "### Ridge Regression with PCA reduction"
   ]
  },
  {
   "cell_type": "code",
   "execution_count": 32,
   "metadata": {},
   "outputs": [],
   "source": [
    "ridge_pca = Ridge(random_state=rs)\n",
    "\n",
    "# Fit 50 componentes with PCA and run with Ridge Regression\n",
    "ridge_pca_rmses = component_reduction(X_train, y_train, ridge_pca, max_components=50, pca=True)"
   ]
  },
  {
   "cell_type": "code",
   "execution_count": 33,
   "metadata": {},
   "outputs": [
    {
     "data": {
      "image/png": "[encoded data removed]",
      "text/plain": [
       "<Figure size 432x288 with 1 Axes>"
      ]
     },
     "metadata": {
      "needs_background": "light"
     },
     "output_type": "display_data"
    }
   ],
   "source": [
    "# add baselines\n",
    "add_baselines(baselines)\n",
    "\n",
    "plt.plot(ridge_pca_rmses)\n",
    "\n",
    "plt.legend()\n",
    "plt.xlabel('Number of Principal Components')\n",
    "plt.ylabel('RMSE')\n",
    "plt.title('Ridge Regression PCA Reduction RSME');"
   ]
  },
  {
   "cell_type": "markdown",
   "metadata": {},
   "source": [
    "### SVR with PCA reduction"
   ]
  },
  {
   "cell_type": "code",
   "execution_count": 35,
   "metadata": {},
   "outputs": [],
   "source": [
    "svr_pca = SVR(kernel='rbf')\n",
    "\n",
    "# Fit through 50 components with PCA and run with SVA Regression\n",
    "svr_pca_rmses = component_reduction(X_train, y_train, svr_pca, max_components=50, pca=True)"
   ]
  },
  {
   "cell_type": "code",
   "execution_count": 36,
   "metadata": {},
   "outputs": [
    {
     "data": {
      "image/png": "[encoded data removed]",
      "text/plain": [
       "<Figure size 432x288 with 1 Axes>"
      ]
     },
     "metadata": {
      "needs_background": "light"
     },
     "output_type": "display_data"
    }
   ],
   "source": [
    "# add baselines\n",
    "add_baselines(baselines)\n",
    "\n",
    "plt.plot(svr_pca_rmses)\n",
    "\n",
    "plt.legend()\n",
    "plt.xlabel('Number of Principal Components')\n",
    "plt.ylabel('RMSE')\n",
    "plt.title('SVR (RBF kernel) PCA Reduction RSME');"
   ]
  },
  {
   "cell_type": "markdown",
   "metadata": {},
   "source": [
    "## Partial Least Squares Regression\n",
    "\n",
    "PCA didn't improve on the simple regression methods. But it isn't the only way to reduce the components of the data.\n",
    "\n",
    "Partial Least Squares (PLS) Regression is similar to PCA in that it applies weights to all features and reduces the total number of components significantly. Unlike PCA, PLS is supervised, in that the weights are fitted on a combination of the X and y vectors. This method may be more useful in a regression model due to it's supervised nature."
   ]
  },
  {
   "cell_type": "markdown",
   "metadata": {},
   "source": [
    "### PLS test - Linear Regression with 10 Components"
   ]
  },
  {
   "cell_type": "code",
   "execution_count": 37,
   "metadata": {},
   "outputs": [],
   "source": [
    "pls = PLSRegression(n_components=10)\n",
    "X_train_pls = pls.fit(X_train, y_train)"
   ]
  },
  {
   "cell_type": "code",
   "execution_count": 38,
   "metadata": {},
   "outputs": [],
   "source": [
    "X_train_pls = pls.transform(X_train)"
   ]
  },
  {
   "cell_type": "code",
   "execution_count": 39,
   "metadata": {},
   "outputs": [
    {
     "name": "stdout",
     "output_type": "stream",
     "text": [
      "Linear Regression - PLS Component Reduction Cross-Validation:\n",
      "\n",
      "R-squared:     -0.5511\n",
      "RMSE:          0.2979\n"
     ]
    }
   ],
   "source": [
    "# Check mean RMSE for 10 PLS components\n",
    "linear_pls = LinearRegression()\n",
    "\n",
    "r2_pls, rmse_pls = kfold_validate_score(X_train_pls, y_train, model=linear_pls)\n",
    "\n",
    "print_scores(r2_pls, rmse_pls, \"Linear Regression - PLS Component Reduction Cross-Validation\")"
   ]
  },
  {
   "cell_type": "markdown",
   "metadata": {},
   "source": [
    "With an RMSE of 0.298, PLS looks really promising. Let's try optimizing:"
   ]
  },
  {
   "cell_type": "markdown",
   "metadata": {},
   "source": [
    "### Linear Regression with PLS"
   ]
  },
  {
   "cell_type": "code",
   "execution_count": 41,
   "metadata": {},
   "outputs": [],
   "source": [
    "linear_pls = LinearRegression()\n",
    "\n",
    "# Fit through 50 components and run with Linear Regression\n",
    "linear_pls_rmses = component_reduction(X_train, y_train, linear_pls, max_components=50, pca=False)"
   ]
  },
  {
   "cell_type": "code",
   "execution_count": 42,
   "metadata": {},
   "outputs": [
    {
     "data": {
      "image/png": "[encoded data removed]",
      "text/plain": [
       "<Figure size 432x288 with 1 Axes>"
      ]
     },
     "metadata": {
      "needs_background": "light"
     },
     "output_type": "display_data"
    }
   ],
   "source": [
    "# add baselines\n",
    "add_baselines(baselines)\n",
    "\n",
    "plt.plot(linear_pls_rmses, color='orange')\n",
    "\n",
    "plt.legend()\n",
    "plt.xlabel('Number of PLS Components')\n",
    "plt.ylabel('RMSE')\n",
    "plt.title('Linear Regression PLS Reduction RSME');"
   ]
  },
  {
   "cell_type": "markdown",
   "metadata": {},
   "source": [
    "### Ridge Regression with PLS"
   ]
  },
  {
   "cell_type": "code",
   "execution_count": 43,
   "metadata": {},
   "outputs": [],
   "source": [
    "ridge_pls = Ridge(random_state=rs)\n",
    "\n",
    "# Fit through 50 components and run with Linear Regression\n",
    "ridge_pls_rmses = component_reduction(X_train, y_train, ridge_pls, max_components=50, pca=False)"
   ]
  },
  {
   "cell_type": "code",
   "execution_count": 44,
   "metadata": {},
   "outputs": [
    {
     "data": {
      "image/png": "[encoded data removed]",
      "text/plain": [
       "<Figure size 432x288 with 1 Axes>"
      ]
     },
     "metadata": {
      "needs_background": "light"
     },
     "output_type": "display_data"
    }
   ],
   "source": [
    "# add baselines\n",
    "add_baselines(baselines)\n",
    "\n",
    "plt.plot(ridge_pls_rmses, color='orange')\n",
    "\n",
    "plt.legend()\n",
    "plt.xlabel('Number of PLS Components')\n",
    "plt.ylabel('RMSE')\n",
    "plt.title('Ridge Regression PLS Reduction RSME');"
   ]
  },
  {
   "cell_type": "markdown",
   "metadata": {},
   "source": [
    "### SVR with PLS"
   ]
  },
  {
   "cell_type": "code",
   "execution_count": 46,
   "metadata": {},
   "outputs": [],
   "source": [
    "svr_rbf_pls = SVR(kernel='rbf')\n",
    "\n",
    "# Fit through 50 components and run with Linear Regression\n",
    "svr_pls_rmses = component_reduction(X_train, y_train, svr_rbf_pls, max_components=50, pca=False)"
   ]
  },
  {
   "cell_type": "code",
   "execution_count": 48,
   "metadata": {},
   "outputs": [
    {
     "data": {
      "image/png": "[encoded data removed]",
      "text/plain": [
       "<Figure size 432x288 with 1 Axes>"
      ]
     },
     "metadata": {
      "needs_background": "light"
     },
     "output_type": "display_data"
    }
   ],
   "source": [
    "# add baselines\n",
    "add_baselines(baselines)\n",
    "\n",
    "plt.plot(svr_pls_rmses, color='orange')\n",
    "\n",
    "plt.legend()\n",
    "plt.xlabel('Number of PLS Components')\n",
    "plt.ylabel('RMSE')\n",
    "plt.title('SVR (RBF kernel) PLS Reduction RSME');"
   ]
  },
  {
   "cell_type": "code",
   "execution_count": 49,
   "metadata": {},
   "outputs": [
    {
     "data": {
      "image/png": "[encoded data removed]",
      "text/plain": [
       "<Figure size 432x288 with 1 Axes>"
      ]
     },
     "metadata": {
      "needs_background": "light"
     },
     "output_type": "display_data"
    }
   ],
   "source": [
    "# add baselines\n",
    "add_baselines(baselines)\n",
    "\n",
    "plt.plot(svr_pca_rmses, label='PCA - SVR')\n",
    "plt.plot(ridge_pls_rmses, label='PLS - Ridge', color='orange')\n",
    "\n",
    "plt.legend()\n",
    "plt.xlabel('Number of Components')\n",
    "plt.ylabel('RMSE')\n",
    "plt.title('Best PCA (SVR) vs. Best PLS (Ridge)');"
   ]
  },
  {
   "cell_type": "markdown",
   "metadata": {},
   "source": [
    "### Ridge Regression - PLS \"elbow\"\n",
    "\n",
    "It's difficult to determine how many PLS components are used to minimize the RMSE with Ridge Regression. Let's zoom in to get a better look."
   ]
  },
  {
   "cell_type": "code",
   "execution_count": 50,
   "metadata": {},
   "outputs": [],
   "source": [
    "ridge_pls = Ridge(random_state=rs)\n",
    "\n",
    "# Fit through 30 components and run with Linear Regression\n",
    "ridge_pls_rmses = component_reduction(X_train, y_train, ridge_pls, max_components=30, pca=False)"
   ]
  },
  {
   "cell_type": "code",
   "execution_count": 51,
   "metadata": {},
   "outputs": [
    {
     "data": {
      "image/png": "[encoded data removed]",
      "text/plain": [
       "<Figure size 432x288 with 1 Axes>"
      ]
     },
     "metadata": {
      "needs_background": "light"
     },
     "output_type": "display_data"
    }
   ],
   "source": [
    "plt.plot(ridge_pls_rmses, color='orange', marker='.', linestyle='--')\n",
    "\n",
    "plt.xlabel('Number of PLS Components')\n",
    "plt.ylabel('RMSE')\n",
    "plt.title('Ridge Regression PLS Reduction RSME');"
   ]
  },
  {
   "cell_type": "markdown",
   "metadata": {},
   "source": [
    "At 7 components, it appers there is no further decrease in RMSE using Ridge Regression."
   ]
  },
  {
   "cell_type": "code",
   "execution_count": 52,
   "metadata": {},
   "outputs": [],
   "source": [
    "# Instatiate PLS with 7 components\n",
    "pls = PLSRegression(n_components=7)\n",
    "\n",
    "# Fit and transform data with the 7 component PLS\n",
    "X_train_pls = pls.fit(X_train, y_train)\n",
    "X_train_pls = pls.transform(X_train)"
   ]
  },
  {
   "cell_type": "code",
   "execution_count": 53,
   "metadata": {},
   "outputs": [
    {
     "name": "stdout",
     "output_type": "stream",
     "text": [
      "Ridge Regression (PLS-7 Components) Cross-Validation:\n",
      "\n",
      "R-squared:     -0.548\n",
      "RMSE:          0.2989\n"
     ]
    }
   ],
   "source": [
    "# Find mean RMSE through SVR Linear regression over 8 fold\n",
    "ridge_pls = Ridge(random_state=rs)\n",
    "\n",
    "ridge_pls_r2, ridge_pls_rmse = kfold_validate_score(X_train_pls, y_train, model=ridge_pls)\n",
    "\n",
    "print_scores(ridge_pls_r2, ridge_pls_rmse, \"Ridge Regression (PLS-7 Components) Cross-Validation\")"
   ]
  },
  {
   "cell_type": "markdown",
   "metadata": {},
   "source": [
    "## Grid Search Cross-Validation with Ridge Regression PLS"
   ]
  },
  {
   "cell_type": "code",
   "execution_count": 7,
   "metadata": {},
   "outputs": [],
   "source": [
    "# Instatiate PLS with 7 components\n",
    "pls = PLSRegression(n_components=7)\n",
    "\n",
    "# Fit and transform data with the 7 component PLS\n",
    "X_train_pls = pls.fit(X_train, y_train)\n",
    "X_train_pls = pls.transform(X_train)"
   ]
  },
  {
   "cell_type": "code",
   "execution_count": 8,
   "metadata": {
    "scrolled": true
   },
   "outputs": [],
   "source": [
    "# Ignore warnings\n",
    "import warnings\n",
    "warnings.filterwarnings('ignore')\n",
    "\n",
    "grid_model = Ridge(random_state=rs)\n",
    "\n",
    "params = {\n",
    "    'alpha': [0.1, 0.5, 1.0, 1.5, 2.0, 5.0, 10.0, 20.0, 30.0, 40.0, 50.0, 75.0, 100.0, 125.0, 150.0, 200.0],\n",
    "    'solver': ['svd', 'cholesky', 'saga', 'sparse_cg', 'lsqr'],\n",
    "}\n",
    "\n",
    "grid_obj = GridSearchCV(grid_model, params, scoring='neg_root_mean_squared_error')\n",
    "\n",
    "grid_fit = grid_obj.fit(X_train_pls, y_train)\n",
    "\n",
    "best_model = grid_fit.best_estimator_"
   ]
  },
  {
   "cell_type": "code",
   "execution_count": 9,
   "metadata": {},
   "outputs": [],
   "source": [
    "preds = best_model.predict(X_train_pls)"
   ]
  },
  {
   "cell_type": "code",
   "execution_count": 10,
   "metadata": {},
   "outputs": [
    {
     "name": "stdout",
     "output_type": "stream",
     "text": [
      "Optimized Ridge Regression:\n",
      "\n",
      "R-squared:     0.5563\n",
      "RMSE:          0.2978\n"
     ]
    }
   ],
   "source": [
    "optimized_r2 = r2_score(y_train, preds)\n",
    "optimized_rmse = mean_squared_error(y_train, preds, squared=False)\n",
    "\n",
    "print_scores(optimized_r2, optimized_rmse, \"Optimized Ridge Regression\")"
   ]
  },
  {
   "cell_type": "code",
   "execution_count": 11,
   "metadata": {},
   "outputs": [
    {
     "data": {
      "text/plain": [
       "Ridge(alpha=10.0, random_state=37, solver='sparse_cg')"
      ]
     },
     "execution_count": 11,
     "metadata": {},
     "output_type": "execute_result"
    }
   ],
   "source": [
    "grid_fit.best_estimator_"
   ]
  },
  {
   "cell_type": "markdown",
   "metadata": {},
   "source": [
    "With an RMSE of 0.2978, compared to an RMSE of 0.2989 on the unoptimized model, there doesn't seem to be any significant improvement gained. However, the R-squared value rose from -0.548 to 0.5563. This shows that the optimized model fits the data better than the unoptimized model."
   ]
  },
  {
   "cell_type": "code",
   "execution_count": 12,
   "metadata": {},
   "outputs": [
    {
     "data": {
      "image/png": "[encoded data removed]",
      "text/plain": [
       "<Figure size 432x288 with 1 Axes>"
      ]
     },
     "metadata": {
      "needs_background": "light"
     },
     "output_type": "display_data"
    }
   ],
   "source": [
    "# Add accuracy line\n",
    "plt.plot([6.5, 9], [6.5, 9], ls='--', c='r', alpha=0.6)\n",
    "# Plot values\n",
    "plt.scatter(preds, y_train, marker='+')\n",
    "\n",
    "plt.title('Actual Rating vs. Predicted Rating - Final Training Model')\n",
    "plt.xlabel('Predicted Rating')\n",
    "plt.ylabel('Actual Rating');"
   ]
  },
  {
   "cell_type": "code",
   "execution_count": 13,
   "metadata": {},
   "outputs": [],
   "source": [
    "pred_diff = y_train - preds"
   ]
  },
  {
   "cell_type": "code",
   "execution_count": 61,
   "metadata": {},
   "outputs": [
    {
     "data": {
      "image/png": "[encoded data removed]",
      "text/plain": [
       "<Figure size 432x288 with 1 Axes>"
      ]
     },
     "metadata": {
      "needs_background": "light"
     },
     "output_type": "display_data"
    }
   ],
   "source": [
    "# Add zero line\n",
    "plt.plot([6.5, 9], [0, 0], ls='--', c='r', alpha=0.6)\n",
    "# Plot values\n",
    "plt.scatter(preds, pred_diff, marker='+')\n",
    "\n",
    "plt.title('Predicted Rating vs. Difference from Actual - Final Training Model')\n",
    "plt.ylabel('Difference from Actual')\n",
    "plt.xlabel('Predicted Rating');"
   ]
  },
  {
   "cell_type": "markdown",
   "metadata": {},
   "source": [
    "## Production Model - First Deliverable\n",
    "\n",
    "We will bring the above model -- `Ridge(alpha=10.0, random_state=37, solver='svd')` -- to production."
   ]
  },
  {
   "cell_type": "code",
   "execution_count": 15,
   "metadata": {},
   "outputs": [],
   "source": [
    "# Instatiate PLS with 7 components\n",
    "pls = PLSRegression(n_components=7)\n",
    "\n",
    "# Fit and transform data with the 7 component PLS - Training\n",
    "X_train_pls = pls.fit(X_train, y_train)\n",
    "X_train_pls = pls.transform(X_train)\n",
    "\n",
    "# Transform test model\n",
    "X_test_pls = pls.transform(X_test)"
   ]
  },
  {
   "cell_type": "code",
   "execution_count": 16,
   "metadata": {},
   "outputs": [],
   "source": [
    "prod_model = best_model\n",
    "\n",
    "prod_model = prod_model.fit(X_train_pls, y_train)"
   ]
  },
  {
   "cell_type": "code",
   "execution_count": 17,
   "metadata": {},
   "outputs": [],
   "source": [
    "preds = prod_model.predict(X_test_pls)\n",
    "\n",
    "prod_r2 = r2_score(y_test, preds)\n",
    "prod_rmse = mean_squared_error(y_test, preds, squared=False)"
   ]
  },
  {
   "cell_type": "code",
   "execution_count": 18,
   "metadata": {},
   "outputs": [
    {
     "name": "stdout",
     "output_type": "stream",
     "text": [
      "Production Model - Ridge Regression with PLS Reduction to 7 Components:\n",
      "\n",
      "R-squared:     0.3931\n",
      "RMSE:          0.343\n"
     ]
    }
   ],
   "source": [
    "print_scores(prod_r2, prod_rmse, \"Production Model - Ridge Regression with PLS Reduction to 7 Components\")"
   ]
  },
  {
   "cell_type": "markdown",
   "metadata": {},
   "source": [
    "The RMSE is 0.343, which is worse than the cross-validated results, but still respectable. This result may be higher due to some overfitting of the data in testing."
   ]
  },
  {
   "cell_type": "code",
   "execution_count": 21,
   "metadata": {},
   "outputs": [
    {
     "data": {
      "text/plain": [
       "0.12045235995906849"
      ]
     },
     "execution_count": 21,
     "metadata": {},
     "output_type": "execute_result"
    }
   ],
   "source": [
    "normalized_rmse = prod_rmse / score_range\n",
    "normalized_rmse"
   ]
  },
  {
   "cell_type": "markdown",
   "metadata": {},
   "source": [
    "## Save model"
   ]
  },
  {
   "cell_type": "code",
   "execution_count": 22,
   "metadata": {},
   "outputs": [],
   "source": [
    "with open(\"production_model.pkl\", \"wb\") as f:\n",
    "    pickle.dump(prod_model, f)"
   ]
  },
  {
   "cell_type": "code",
   "execution_count": 67,
   "metadata": {},
   "outputs": [
    {
     "data": {
      "image/png": "[encoded data removed]",
      "text/plain": [
       "<Figure size 432x288 with 1 Axes>"
      ]
     },
     "metadata": {
      "needs_background": "light"
     },
     "output_type": "display_data"
    }
   ],
   "source": [
    "# Add accuracy line\n",
    "plt.plot([6.5, 9], [6.5, 9], ls='--', c='r', alpha=0.6)\n",
    "# Plot values\n",
    "plt.scatter(preds, y_test, marker='+')\n",
    "\n",
    "plt.title('Actual Rating vs. Predicted Rating - Production Model')\n",
    "plt.xlabel('Predicted Rating')\n",
    "plt.ylabel('Actual Rating');Unnamed: 0"
   ]
  },
  {
   "cell_type": "code",
   "execution_count": 68,
   "metadata": {},
   "outputs": [],
   "source": [
    "pred_diff = y_test - preds"
   ]
  },
  {
   "cell_type": "code",
   "execution_count": 69,
   "metadata": {},
   "outputs": [
    {
     "data": {
      "image/png": "[encoded data removed]",
      "text/plain": [
       "<Figure size 432x288 with 1 Axes>"
      ]
     },
     "metadata": {
      "needs_background": "light"
     },
     "output_type": "display_data"
    }
   ],
   "source": [
    "# Add zero line\n",
    "plt.plot([6.5, 9], [0, 0], ls='--', c='r', alpha=0.6)\n",
    "# Plot values\n",
    "plt.scatter(preds, pred_diff, marker='+')\n",
    "\n",
    "plt.title('Predicted Rating vs. Difference from Actual - Production Model')\n",
    "plt.ylabel('Difference from Actual')\n",
    "plt.xlabel('Predicted Rating');"
   ]
  },
  {
   "cell_type": "markdown",
   "metadata": {},
   "source": [
    "## Interpreting PLS Components - Second Deliverable\n",
    "\n",
    "Now that a model has been chosen, it is important to interpret the model. This will aid designers in designing games by showing what features have had a history of working well together."
   ]
  },
  {
   "cell_type": "code",
   "execution_count": 70,
   "metadata": {},
   "outputs": [],
   "source": [
    "# Create dataframe from X-weights used by PLS Regression\n",
    "cols = [f'comp_{i}' for i in range(7)]\n",
    "\n",
    "pls_weights = pd.DataFrame(pls.x_weights_, columns=cols, index=X_train.columns)"
   ]
  },
  {
   "cell_type": "code",
   "execution_count": 71,
   "metadata": {},
   "outputs": [],
   "source": [
    "# Add abs value columns to make sorting easier\n",
    "for col in pls_weights.columns:\n",
    "    new_col_name = 'abs_' + col\n",
    "    pls_weights[new_col_name] = np.abs(pls_weights[col])"
   ]
  },
  {
   "cell_type": "markdown",
   "metadata": {},
   "source": [
    "### Get Ridge Regression Model Coefficients\n",
    "   \n",
    "Thes coefficients help in interpretation by seeing which components have a positive and which have a negative coefficient. The positive weights are desired on a component with a positve coefficient, and the negative weights are desired on a component with a negative coefficient."
   ]
  },
  {
   "cell_type": "code",
   "execution_count": 72,
   "metadata": {
    "scrolled": true
   },
   "outputs": [
    {
     "data": {
      "text/plain": [
       "array([ 0.11725962,  0.09631509, -0.0492286 ,  0.03916476,  0.03555963,\n",
       "        0.02784177,  0.02148316])"
      ]
     },
     "execution_count": 72,
     "metadata": {},
     "output_type": "execute_result"
    }
   ],
   "source": [
    "prod_model.coef_"
   ]
  },
  {
   "cell_type": "markdown",
   "metadata": {},
   "source": [
    "### Component 0 - coefficient 0.1173"
   ]
  },
  {
   "cell_type": "code",
   "execution_count": 73,
   "metadata": {
    "scrolled": false
   },
   "outputs": [
    {
     "data": {
      "text/plain": [
       "weight                                            0.375092\n",
       "Family Games (Subdomain)                         -0.226938\n",
       "age                                               0.225743\n",
       "Solo / Solitaire Game (Mechanism)                 0.180604\n",
       "Scenario / Mission / Campaign Game (Mechanism)    0.180248\n",
       "min_players                                      -0.169437\n",
       "Wargame (Theme)                                   0.139682\n",
       "Variable Player Powers (Mechanism)                0.138518\n",
       "Miniatures (Theme)                                0.135865\n",
       "Wargames (Subdomain)                              0.123270\n",
       "Simulation (Mechanism)                            0.122214\n",
       "Variable Set-up (Mechanism)                       0.121897\n",
       "Tech Trees / Tech Tracks (Mechanism)              0.121158\n",
       "Campaign / Battle Card Driven (Mechanism)         0.111713\n",
       "Cooperative Game (Mechanism)                      0.109413\n",
       "Party Game (Theme)                               -0.108310\n",
       "Line of Sight (Mechanism)                         0.104299\n",
       "Hexagon Grid (Mechanism)                          0.103160\n",
       "Economic (Theme)                                  0.100386\n",
       "Deck, Bag, and Pool Building (Mechanism)          0.100304\n",
       "Name: comp_0, dtype: float64"
      ]
     },
     "execution_count": 73,
     "metadata": {},
     "output_type": "execute_result"
    }
   ],
   "source": [
    "pls_comp_list(pls_weights, 0, threshold=0.10)"
   ]
  },
  {
   "cell_type": "markdown",
   "metadata": {},
   "source": [
    "### Analysis:\n",
    "\n",
    "For the first component, there is a heavy weight toward game weight (essentially how complicated the game is). There is also a strong negative weight on Family Games, as well as a strong positive weight on Age.\n",
    "\n",
    "The other weights above 0.125 indicate the games that are weighted highly on this component are games that can be played solo, games with scenarios/missions/campaigns, a smaller player count, a wargame, with variable player powers and miniatures.\n",
    "\n",
    "This shows that Wargames and Family Games are opposite in regards to a lot of the features that are important to a game receiving a high score.\n",
    "\n",
    "### Ideal game concept:\n",
    "\n",
    "An ideal game that would score highly in this component would be a rules-heavy war game with scenarios or missions and the ablilty to play solo."
   ]
  },
  {
   "cell_type": "markdown",
   "metadata": {},
   "source": [
    "## Component 1"
   ]
  },
  {
   "cell_type": "code",
   "execution_count": 74,
   "metadata": {},
   "outputs": [
    {
     "data": {
      "text/plain": [
       "Party Games (Subdomain)                          0.222300\n",
       "Dice Rolling (Mechanism)                        -0.197376\n",
       "Area Movement (Mechanism)                       -0.179776\n",
       "Party Game (Theme)                               0.165426\n",
       "weight                                           0.149214\n",
       "Acting (Mechanism)                               0.141935\n",
       "Area Majority / Influence (Mechanism)           -0.140516\n",
       "Deduction (Theme)                                0.140338\n",
       "Pattern Building (Mechanism)                     0.137319\n",
       "Thematic Games (Subdomain)                      -0.133380\n",
       "End Game Bonuses (Mechanism)                     0.133244\n",
       "Solo / Solitaire Game (Mechanism)                0.131943\n",
       "Modular Board (Mechanism)                       -0.127973\n",
       "Communication Limits (Mechanism)                 0.119912\n",
       "Drawing (Mechanism)                              0.119639\n",
       "Fighting (Theme)                                -0.117521\n",
       "Pick-up and Deliver (Mechanism)                 -0.115815\n",
       "max_players                                      0.113644\n",
       "Traitor Game (Mechanism)                         0.109550\n",
       "Line Drawing (Mechanism)                         0.109465\n",
       "Roll / Spin and Move (Mechanism)                -0.109127\n",
       "Hidden Roles (Mechanism)                         0.108672\n",
       "Tech Trees / Tech Tracks (Mechanism)             0.107030\n",
       "Exploration (Theme)                             -0.104375\n",
       "Roles with Asymmetric Information (Mechanism)    0.104366\n",
       "Puzzle (Theme)                                   0.101001\n",
       "Card Play Conflict Resolution (Mechanism)        0.100831\n",
       "Name: comp_1, dtype: float64"
      ]
     },
     "execution_count": 74,
     "metadata": {},
     "output_type": "execute_result"
    }
   ],
   "source": [
    "pls_comp_list(pls_weights, 1, threshold=0.10)"
   ]
  },
  {
   "cell_type": "markdown",
   "metadata": {},
   "source": [
    "### Analysis:\n",
    "\n",
    "The strongest weight for this component is a positive weight on the subdomain of Party Games. The strong negative weights scoring 2nd and 3rd indicate that Party Games do not implement Dice Rolling nor Area Movement to receive high rankings. There are moderate positive weights on Game Weight, Acting, Deduction, Pattern Building, End Game Bonuses, and (surprisingly for a Party Game) the ability to play Solo.\n",
    "\n",
    "Moderate negative weights are on Area Majorit/Influence, the subdomain of Thematic Games, and Modular Boards.\n",
    "\n",
    "This shows that Party Games with high scores use mechanics such as Acting, Deduction, and Pattern Building. The games that reward players at the end of the game with score bonuses score highly as well. The subdomain of Thematic Games seems to be opposite of Party Games in features that lead to high scores.\n",
    "\n",
    "### Ideal game concept:\n",
    "\n",
    "An ideal Party Game that would score highly in this component would be one that uses mechanics such as Acting or Deduction and would reward players at the end of the game with bonuses."
   ]
  },
  {
   "cell_type": "markdown",
   "metadata": {},
   "source": [
    "## Component 2"
   ]
  },
  {
   "cell_type": "code",
   "execution_count": 75,
   "metadata": {},
   "outputs": [
    {
     "data": {
      "text/plain": [
       "Income (Mechanism)                           0.209338\n",
       "Strategy Games (Subdomain)                   0.190631\n",
       "weight                                      -0.185323\n",
       "Economic (Theme)                             0.177655\n",
       "Miniatures (Theme)                          -0.164661\n",
       "Victory Points as a Resource (Mechanism)     0.160039\n",
       "Industry / Manufacturing (Theme)             0.154383\n",
       "Worker Placement (Mechanism)                 0.151694\n",
       "Fantasy (Theme)                             -0.140750\n",
       "Follow (Mechanism)                           0.137029\n",
       "Card Play Conflict Resolution (Mechanism)   -0.131847\n",
       "Ownership (Mechanism)                        0.129737\n",
       "Market (Mechanism)                           0.124954\n",
       "Dice Rolling (Mechanism)                    -0.122027\n",
       "Wargame (Theme)                             -0.119557\n",
       "Network and Route Building (Mechanism)       0.114319\n",
       "Sports (Theme)                              -0.113244\n",
       "Wargames (Subdomain)                        -0.111644\n",
       "Once-Per-Game Abilities (Mechanism)          0.110257\n",
       "Stock Holding (Mechanism)                    0.109080\n",
       "Turn Order: Progressive (Mechanism)          0.106175\n",
       "Farming (Theme)                              0.105996\n",
       "Adventure (Theme)                           -0.104196\n",
       "Variable Set-up (Mechanism)                  0.103381\n",
       "Campaign / Battle Card Driven (Mechanism)   -0.102202\n",
       "Post-Napoleonic (Theme)                      0.101075\n",
       "End Game Bonuses (Mechanism)                 0.100536\n",
       "Name: comp_2, dtype: float64"
      ]
     },
     "execution_count": 75,
     "metadata": {},
     "output_type": "execute_result"
    }
   ],
   "source": [
    "pls_comp_list(pls_weights, 2, threshold=0.10)"
   ]
  },
  {
   "cell_type": "markdown",
   "metadata": {},
   "source": [
    "### Analysis:\n",
    "\n",
    "This component prioritizes Strategy Games with income and economic elements. These games do beter with a lighter game weight and do not inclue miniatures. Victory points are also usable resources in the game. They have themes of industry and/or manufacturing, use a worker placement mechanic, and are not fantasy themed.\n",
    "\n",
    "### Ideal game concept:\n",
    "\n",
    "An ideal game that scores well on this component would be a Strategy Game that has a real-world theme in industry or manufacturing. It would need a monitary element. The money should be your score at the end of the game, so you have to balance saving money and spending it in hopes of making more later. The main mechanism of the game should be worker placement -- there are nodes on the game board that provide benefits to the player, but by one player occupying a node, another player could be locked out from using that node until a future round."
   ]
  },
  {
   "cell_type": "markdown",
   "metadata": {},
   "source": [
    "### Component 3"
   ]
  },
  {
   "cell_type": "code",
   "execution_count": 76,
   "metadata": {},
   "outputs": [
    {
     "data": {
      "text/plain": [
       "weight                                    0.365561\n",
       "Role Playing (Mechanism)                 -0.194100\n",
       "Party Game (Theme)                       -0.172286\n",
       "Thematic Games (Subdomain)               -0.153729\n",
       "Economic (Theme)                          0.144238\n",
       "Set Collection (Mechanism)                0.143863\n",
       "Strategy Games (Subdomain)                0.142247\n",
       "Cooperative Game (Mechanism)             -0.139955\n",
       "Auction/Bidding (Mechanism)               0.136229\n",
       "Line of Sight (Mechanism)                -0.126053\n",
       "Collectible Components (Theme)           -0.125341\n",
       "Tile Placement (Mechanism)                0.123330\n",
       "Transportation (Theme)                    0.122233\n",
       "Communication Limits (Mechanism)         -0.119013\n",
       "Book (Theme)                             -0.116640\n",
       "Critical Hits and Failures (Mechanism)   -0.114582\n",
       "Team-Based Game (Mechanism)              -0.108513\n",
       "Semi-Cooperative Game (Mechanism)        -0.107491\n",
       "Medieval (Theme)                          0.106045\n",
       "Trading (Mechanism)                       0.103379\n",
       "Name: comp_3, dtype: float64"
      ]
     },
     "execution_count": 76,
     "metadata": {},
     "output_type": "execute_result"
    }
   ],
   "source": [
    "pls_comp_list(pls_weights, 3, threshold=0.10)"
   ]
  },
  {
   "cell_type": "markdown",
   "metadata": {},
   "source": [
    "### Analysis:\n",
    "\n",
    "This component scores heavy, Strategy Games highly that have an Economic theme with Set Collection and Auction mechanisms. These games have opposite elements than Thematic Party Games with Role Playing and Cooperative Mechanisms.\n",
    "\n",
    "The strongest weight by far in this component is game weight, so these elements are popular in very complex games.\n",
    "\n",
    "### Ideal game concept:\n",
    "\n",
    "An ideal game for this component would be a very complex Strategy Game with and Economic theme where the goal is to collect sets of items and you need to bid on those items. There would be a lot of player interaction through the bidding and the economy would be set by what the players find important and not set by the game rules."
   ]
  },
  {
   "cell_type": "markdown",
   "metadata": {},
   "source": [
    "## Component 4"
   ]
  },
  {
   "cell_type": "code",
   "execution_count": 77,
   "metadata": {},
   "outputs": [
    {
     "data": {
      "text/plain": [
       "weight                          0.309697\n",
       "Deduction (Theme)               0.258597\n",
       "Traitor Game (Mechanism)        0.193417\n",
       "Storytelling (Mechanism)        0.184765\n",
       "Party Games (Subdomain)         0.169374\n",
       "Adventure (Theme)               0.165841\n",
       "Murder/Mystery (Theme)          0.161756\n",
       "Racing (Theme)                 -0.145884\n",
       "Hidden Roles (Mechanism)        0.143775\n",
       "Horror (Theme)                  0.132710\n",
       "Strategy Games (Subdomain)     -0.126729\n",
       "Race (Mechanism)               -0.125087\n",
       "Bluffing (Theme)                0.123469\n",
       "Sports (Theme)                 -0.117987\n",
       "Cooperative Game (Mechanism)    0.114636\n",
       "Predictive Bid (Mechanism)     -0.103943\n",
       "Pattern Building (Mechanism)   -0.102489\n",
       "Abstract Games (Subdomain)     -0.101746\n",
       "Mythology (Theme)              -0.100404\n",
       "Name: comp_4, dtype: float64"
      ]
     },
     "execution_count": 77,
     "metadata": {},
     "output_type": "execute_result"
    }
   ],
   "source": [
    "pls_comp_list(pls_weights, 4, threshold=0.10)"
   ]
  },
  {
   "cell_type": "markdown",
   "metadata": {},
   "source": [
    "### Analysis:\n",
    "\n",
    "For this component, a game is rewarded for being a complex game with a Deduction, Adventure, and/or Murder/Mystery theme with a player or players as a Traitor. Most likely this traitor role will be hidden from the non-traitor players. These games will tell a strong story and often have Horror elements as well.\n",
    "\n",
    "### Ideal game concept:\n",
    "\n",
    "An ideal game that would score well in this component would be a Horror game that told a strong story through the game play. There would be one or more players who would be traitors to the other players, and only they would know who the other traitors would be. The goal of the non-traitor players would be to deduce who the traitors were before the end of the game."
   ]
  },
  {
   "cell_type": "markdown",
   "metadata": {},
   "source": [
    "## Component 5"
   ]
  },
  {
   "cell_type": "code",
   "execution_count": 78,
   "metadata": {},
   "outputs": [
    {
     "data": {
      "text/plain": [
       "weight                                           0.267936\n",
       "Role Playing (Mechanism)                        -0.213677\n",
       "Family Games (Subdomain)                         0.200271\n",
       "Thematic Games (Subdomain)                      -0.172659\n",
       "Strategy Games (Subdomain)                      -0.158660\n",
       "Auction/Bidding (Mechanism)                     -0.148571\n",
       "Ratio / Combat Results Table (Mechanism)         0.147348\n",
       "age                                             -0.143596\n",
       "Hidden Roles (Mechanism)                        -0.136535\n",
       "Negotiation (Theme)                             -0.136179\n",
       "Movement Points (Mechanism)                      0.128379\n",
       "Wargame (Theme)                                  0.126086\n",
       "Mythology (Theme)                               -0.121962\n",
       "Traitor Game (Mechanism)                        -0.119535\n",
       "Variable Player Powers (Mechanism)              -0.119015\n",
       "Negotiation (Mechanism)                         -0.116477\n",
       "Simulation (Mechanism)                           0.114168\n",
       "Action Points (Mechanism)                       -0.113756\n",
       "Abstract Strategy (Theme)                        0.112724\n",
       "Wargames (Subdomain)                             0.107994\n",
       "Variable Set-up (Mechanism)                      0.107785\n",
       "Roles with Asymmetric Information (Mechanism)   -0.101457\n",
       "Name: comp_5, dtype: float64"
      ]
     },
     "execution_count": 78,
     "metadata": {},
     "output_type": "execute_result"
    }
   ],
   "source": [
    "pls_comp_list(pls_weights, 5, threshold=0.10)"
   ]
  },
  {
   "cell_type": "markdown",
   "metadata": {},
   "source": [
    "### Analysis:\n",
    "\n",
    "This component is a little more difficult to interpret that the previous components. This component seems to prioritize somewhat complex Family Games for a younger audience. These games would be Wargames with combat and limited movement. These games would have opposite elements from Thematic or Strategy Games and involve little to no role playing or negotiation."
   ]
  },
  {
   "cell_type": "markdown",
   "metadata": {},
   "source": [
    "## Component 6"
   ]
  },
  {
   "cell_type": "code",
   "execution_count": 79,
   "metadata": {},
   "outputs": [
    {
     "data": {
      "text/plain": [
       "weight                                      0.316971\n",
       "Wargames (Subdomain)                       -0.208799\n",
       "World War I (Theme)                        -0.203630\n",
       "World War II (Theme)                       -0.190776\n",
       "Race (Mechanism)                            0.164634\n",
       "Simulation (Mechanism)                     -0.154210\n",
       "Hand Management (Mechanism)                 0.134507\n",
       "Card Game (Theme)                           0.131025\n",
       "Fighting (Theme)                            0.128090\n",
       "avg_time                                   -0.127201\n",
       "Area Majority / Influence (Mechanism)       0.126782\n",
       "Follow (Mechanism)                          0.125456\n",
       "Kill Steal (Mechanism)                      0.122033\n",
       "min_players                                 0.120795\n",
       "Wargame (Theme)                            -0.117159\n",
       "Bribery (Mechanism)                         0.110878\n",
       "Trains (Theme)                             -0.107412\n",
       "Humor (Theme)                               0.104802\n",
       "Ratio / Combat Results Table (Mechanism)   -0.104501\n",
       "Racing (Theme)                              0.102461\n",
       "Prisoner's Dilemma (Mechanism)              0.100932\n",
       "Name: comp_6, dtype: float64"
      ]
     },
     "execution_count": 79,
     "metadata": {},
     "output_type": "execute_result"
    }
   ],
   "source": [
    "pls_comp_list(pls_weights, 6, threshold=0.10)"
   ]
  },
  {
   "cell_type": "markdown",
   "metadata": {},
   "source": [
    "### Analysis:\n",
    "\n",
    "The final component used to predict the score are more complex games that use cards as the interface for the player to influence the game. There could be a combination of different themes, such as racing, fighting, or area control. These games are likely not a war game and not set during either of the World Wars.\n",
    "\n",
    "There is also a negative weight on average time, so these games are likely quicker than other games to play and finish the game.\n",
    "\n",
    "### Ideal game concept:\n",
    "\n",
    "An ideal game in this component would be a racing game that used cards to control the vehicle. There should be ways to attack and influence the other players, so there would be a high amount of player interaction. This game should not take a very long time to play."
   ]
  },
  {
   "cell_type": "code",
   "execution_count": null,
   "metadata": {},
   "outputs": [],
   "source": []
  }
 ],
 "metadata": {
  "kernelspec": {
   "display_name": "Python 3",
   "language": "python",
   "name": "python3"
  },
  "language_info": {
   "codemirror_mode": {
    "name": "ipython",
    "version": 3
   },
   "file_extension": ".py",
   "mimetype": "text/x-python",
   "name": "python",
   "nbconvert_exporter": "python",
   "pygments_lexer": "ipython3",
   "version": "3.7.2"
  }
 },
 "nbformat": 4,
 "nbformat_minor": 5
}
