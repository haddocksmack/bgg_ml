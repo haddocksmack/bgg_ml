{
 "cells": [
  {
   "cell_type": "code",
   "execution_count": 1,
   "id": "b59910a7",
   "metadata": {},
   "outputs": [],
   "source": [
    "import pandas as pd\n",
    "import numpy as np\n",
    "\n",
    "from sklearn.model_selection import train_test_split, KFold, cross_val_score, cross_val_predict, cross_validate\n",
    "from sklearn.linear_model import LinearRegression\n",
    "\n",
    "from helper_functions import find_outlier_games"
   ]
  },
  {
   "cell_type": "code",
   "execution_count": 2,
   "id": "cb4861f2",
   "metadata": {},
   "outputs": [],
   "source": [
    "# Import processed data from EDA notebook\n",
    "bgg = pd.read_csv('./data/bgg_processed.csv', index_col='game_id')"
   ]
  },
  {
   "cell_type": "code",
   "execution_count": 3,
   "id": "c97bcedc",
   "metadata": {},
   "outputs": [],
   "source": [
    "# Split off target column: `avg_rating`\n",
    "y = bgg['avg_rating']\n",
    "X = bgg.drop('avg_rating', axis=1).copy()"
   ]
  },
  {
   "cell_type": "code",
   "execution_count": 4,
   "id": "dfbd0c94",
   "metadata": {},
   "outputs": [],
   "source": [
    "# Split into training and testing sets\n",
    "X_train, X_test, y_train, y_test = train_test_split(\n",
    "    X, y, test_size=0.2, random_state=42\n",
    ")"
   ]
  },
  {
   "cell_type": "markdown",
   "id": "d2379e1a",
   "metadata": {},
   "source": [
    "## Initial linear regression\n",
    "\n",
    "First let's see how simple linear regression fares. There are 2000 entries in the original data, so the train/test split leaves 1600 rows in the training data. 8 splits for K-Fold cross validation should ve sufficient so each slice is 200 rows. The rows were already shuffled with the train/test split, so they don't need shuffled again."
   ]
  },
  {
   "cell_type": "code",
   "execution_count": 5,
   "id": "f3809ce8",
   "metadata": {},
   "outputs": [
    {
     "data": {
      "text/plain": [
       "20290175055.225716"
      ]
     },
     "execution_count": 5,
     "metadata": {},
     "output_type": "execute_result"
    }
   ],
   "source": [
    "# K-Fold cross validation\n",
    "cv = KFold(n_splits=8)\n",
    "\n",
    "model = LinearRegression()\n",
    "\n",
    "scores = cross_val_score(\n",
    "    model,\n",
    "    X_train,\n",
    "    y_train,\n",
    "    scoring='neg_mean_squared_error',\n",
    "    cv=cv\n",
    ")\n",
    "\n",
    "# Find RMSE\n",
    "rmse = np.mean(np.sqrt(np.absolute(scores)))\n",
    "rmse"
   ]
  },
  {
   "cell_type": "markdown",
   "id": "7ac9f5a9",
   "metadata": {},
   "source": [
    "Clearly, something isn't optimal. The range between the minimum score and maximum score is 2.7 points. We'd want the average RMSE to be smaller than this range, not 20 billion."
   ]
  },
  {
   "cell_type": "code",
   "execution_count": 6,
   "id": "d70b1532",
   "metadata": {},
   "outputs": [
    {
     "name": "stdout",
     "output_type": "stream",
     "text": [
      "Slice 0 RMSE: 0.44547528136469133\n",
      "Slice 1 RMSE: 0.3831761390119257\n",
      "Slice 2 RMSE: 0.3741414727970673\n",
      "Slice 3 RMSE: 0.36228473775631453\n",
      "Slice 4 RMSE: 0.31812747589049367\n",
      "Slice 5 RMSE: 0.3616080264109322\n",
      "Slice 6 RMSE: 0.39168740199763735\n",
      "Slice 7 RMSE: 162321400439.16922\n"
     ]
    }
   ],
   "source": [
    "# Look at scores from each split\n",
    "for i in scores:\n",
    "    score = np.sqrt(np.absolute(i))\n",
    "    print(f'Slice {list(scores).index(i)} RMSE: {score}')"
   ]
  },
  {
   "cell_type": "markdown",
   "id": "f840bea9",
   "metadata": {},
   "source": [
    "There is something in the 8th slice that is going wrong. Let's dig in a little to see what it is. First, we need to see what the CV is actually predicting:"
   ]
  },
  {
   "cell_type": "code",
   "execution_count": 7,
   "id": "c7ba2e32",
   "metadata": {},
   "outputs": [],
   "source": [
    "# Generate predictions from the cross validation\n",
    "preds = cross_val_predict(\n",
    "    model,\n",
    "    X_train,\n",
    "    y_train,\n",
    "    cv=cv\n",
    ")"
   ]
  },
  {
   "cell_type": "code",
   "execution_count": 8,
   "id": "d138bc03",
   "metadata": {},
   "outputs": [
    {
     "data": {
      "text/plain": [
       "array([7.18031593, 7.14230428, 6.73584719, ..., 7.52238108, 7.22286393,\n",
       "       7.19165134])"
      ]
     },
     "execution_count": 8,
     "metadata": {},
     "output_type": "execute_result"
    }
   ],
   "source": [
    "preds"
   ]
  },
  {
   "cell_type": "code",
   "execution_count": 9,
   "id": "3fcc4566",
   "metadata": {},
   "outputs": [
    {
     "name": "stdout",
     "output_type": "stream",
     "text": [
      "Max prediction: 11.409906691914584\n",
      "Min prediction: -2295571259637.283\n"
     ]
    }
   ],
   "source": [
    "print(f'Max prediction: {np.max(preds)}\\nMin prediction: {np.min(preds)}')"
   ]
  },
  {
   "cell_type": "markdown",
   "id": "665c6197",
   "metadata": {},
   "source": [
    "It looks like the highest prediction is within reason. Ideally, we'd want it below 10, but it isn't too far off. The lowest prediction is causing a problem."
   ]
  },
  {
   "cell_type": "code",
   "execution_count": 10,
   "id": "3f89f49b",
   "metadata": {},
   "outputs": [
    {
     "data": {
      "text/plain": [
       "46213"
      ]
     },
     "execution_count": 10,
     "metadata": {},
     "output_type": "execute_result"
    }
   ],
   "source": [
    "# Find index of smallest prediction in X_train\n",
    "outlier_idx = X_train.iloc[[list(preds).index(np.min(preds))]].index[0]\n",
    "outlier_idx"
   ]
  },
  {
   "cell_type": "code",
   "execution_count": 11,
   "id": "b269c1fa",
   "metadata": {},
   "outputs": [],
   "source": [
    "# Load the names df\n",
    "names = pd.read_csv('./data/bgg_names.csv', index_col='game_id')"
   ]
  },
  {
   "cell_type": "code",
   "execution_count": 12,
   "id": "faff270a-e0b0-4b42-928d-2d3c1af9a2d8",
   "metadata": {},
   "outputs": [
    {
     "data": {
      "text/plain": [
       "'Telestrations'"
      ]
     },
     "execution_count": 12,
     "metadata": {},
     "output_type": "execute_result"
    }
   ],
   "source": [
    "# Find name of game causing the issue\n",
    "names.loc[outlier_idx][0]"
   ]
  },
  {
   "cell_type": "markdown",
   "id": "ae54db2e",
   "metadata": {},
   "source": [
    "The model is predicting a very anomalous result for the game called \"Telestrations\". Is this a result that is specific for 8 k-fold slices?"
   ]
  },
  {
   "cell_type": "code",
   "execution_count": 13,
   "id": "1cecc9d8",
   "metadata": {},
   "outputs": [
    {
     "name": "stdout",
     "output_type": "stream",
     "text": [
      "2 folds - Outlier games:\n",
      "\t {'Diplomacy': 12190501.043050587, 'Blood on the Clocktower': 12190501.304880919, 'Ra': 210282895078.39734, 'The Estates': 210282895077.12515, 'Wings of War: Famous Aces': 115311218752.27881, 'Paths of Glory': 115311218751.66248, 'The Grizzled': 115311218751.20435, 'No Thanks!': 210282895077.02087, 'Cosmic Encounter': 12190500.91224652, 'History of the World': 115311218751.24864, 'A Game of Thrones: The Board Game (Second Edition)': 12190501.32368377, 'Nightmare Productions': 210282895077.4625, 'Cosmic Encounter: 42nd Anniversary Edition': 12190501.28717232, 'Tiny Epic Kingdoms': 12190500.60113901, 'Citadels': -653071117.8103834, 'Arkham Horror': -653071117.7523369, 'Rhino Hero': -653071118.2375696, 'Telestrations': -118812254626.68163}\n",
      "3 folds - Outlier games:\n",
      "\t {'Ra': 3502737523324.3457, 'The Estates': 3502737523323.9014, 'Wings of War: Famous Aces': 241372749046.84573, 'Paths of Glory': 241372749046.48447, 'The Grizzled': 241372749045.76154, 'No Thanks!': 3502737523323.8477, 'History of the World': 241372749046.06415, 'Nightmare Productions': 3502737523324.1763, 'Citadels': 35681931.673639104, 'Arkham Horror': 35681931.75839966, 'Rhino Hero': 35681931.22089875, 'Telestrations': 1176397627581.6113}\n",
      "4 folds - Outlier games:\n",
      "\t {'Ra': 6013670740881.197, 'The Estates': 6013670740880.857, 'Wings of War: Famous Aces': 7696107096745.99, 'Paths of Glory': 7696107096745.91, 'The Grizzled': 7696107096745.0625, 'No Thanks!': 6013670740880.761, 'History of the World': 7696107096745.449, 'Nightmare Productions': 6013670740881.262, 'Telestrations': 603352873716.8258}\n",
      "5 folds - Outlier games:\n",
      "\t {'Telestrations': -643130378406.9471}\n",
      "6 folds - Outlier games:\n",
      "\t {'Telestrations': 502010256285.82385}\n",
      "7 folds - Outlier games:\n",
      "\t {'Telestrations': 468404987302.09033}\n",
      "8 folds - Outlier games:\n",
      "\t {'Telestrations': -2295571259637.283}\n",
      "9 folds - Outlier games:\n",
      "\t {'Wings of War: Famous Aces': -647033817896.1195, 'Paths of Glory': -647033817896.4302, 'The Grizzled': -647033817897.2318, 'History of the World': -647033817896.9349, 'Telestrations': 1071305919941.2926}\n",
      "10 folds - Outlier games:\n",
      "\t {'Telestrations': -737800345800.6736}\n",
      "11 folds - Outlier games:\n",
      "\t {'Telestrations': -418398065439.31067}\n",
      "12 folds - Outlier games:\n",
      "\t {'Telestrations': -359699856985.7006}\n",
      "13 folds - Outlier games:\n",
      "\t {'Telestrations': 515818924939.53143}\n",
      "14 folds - Outlier games:\n",
      "\t {'Telestrations': 258028750997.43878}\n",
      "15 folds - Outlier games:\n",
      "\t {'Telestrations': -473284557155.8775}\n",
      "16 folds - Outlier games:\n",
      "\t {'Telestrations': 1452884634919.5842}\n",
      "17 folds - Outlier games:\n",
      "\t {'Telestrations': -512170982404.494}\n",
      "18 folds - Outlier games:\n",
      "\t {'Telestrations': -391079174520.07574}\n",
      "19 folds - Outlier games:\n",
      "\t {'Telestrations': 283742566183.9665}\n",
      "20 folds - Outlier games:\n",
      "\t {'Telestrations': 409633871908.40924}\n"
     ]
    }
   ],
   "source": [
    "# find_outlier_games returns {Game Name: Predicted Score} for any game\n",
    "# where predicted score is -20 < score < 20\n",
    "for i in range(2, 21):\n",
    "    outliers = find_outlier_games(X_train, y_train, names, i)\n",
    "    print(f'{i} folds - Outlier games:')\n",
    "    print('\\t', outliers)"
   ]
  },
  {
   "cell_type": "markdown",
   "id": "7748df65-dd7b-4736-ad61-5a03907f048d",
   "metadata": {},
   "source": [
    "### Prediction outliers\n",
    "\n",
    "Depending on the amount of folds used, there can be more than one game receiving extreme predictions. However, no matter how many folds used, \"Telestrations\" always receives an extreme prediction.\n",
    "\n",
    "#### \"Telestrations\" options:\n",
    " 1) Remove it from analysis\n",
    " 2) Use a method, such as Principle Component Regression or Princible Least Squares Regression, to reduce the features the Linear Regression model predicts off.\n",
    "\n",
    "PCR seems like a promising idea because there are predictions for other games that are outliers, depending on the splits used for Cross Validation. This could lead to large outliers in the test data, or worse, input data used in production."
   ]
  },
  {
   "cell_type": "markdown",
   "id": "fd09be56-f822-4a10-b0d6-a72e9fb1dfe9",
   "metadata": {},
   "source": [
    "### Removing \"Telestrations\"\n",
    "\n",
    "First, let's see how the data fares without \"Telestrations\""
   ]
  },
  {
   "cell_type": "code",
   "execution_count": 14,
   "id": "12b58674-3bbe-4ebf-9a93-1bbc3eac851f",
   "metadata": {},
   "outputs": [],
   "source": [
    "# Remove \"Telestrations\"\n",
    "\n",
    "# Find Index\n",
    "tele_idx = names[names['name']==\"Telestrations\"].index[0]\n",
    "\n",
    "# Remove Game\n",
    "X_train_no_tele = X_train.drop(index=tele_idx, axis=1).copy()\n",
    "y_train_no_tele = y_train.drop(index=tele_idx, axis=1).copy()"
   ]
  },
  {
   "cell_type": "code",
   "execution_count": 15,
   "id": "7c07c3cb-632f-4539-ae30-603bdfff269d",
   "metadata": {},
   "outputs": [
    {
     "data": {
      "text/plain": [
       "0.37248410927993547"
      ]
     },
     "execution_count": 15,
     "metadata": {},
     "output_type": "execute_result"
    }
   ],
   "source": [
    "# Linear Regression with\n",
    "# K-Fold cross validation\n",
    "cv = KFold(n_splits=8)\n",
    "\n",
    "model = LinearRegression()\n",
    "\n",
    "scores = cross_val_score(\n",
    "    model,\n",
    "    X_train_no_tele,\n",
    "    y_train_no_tele,\n",
    "    scoring='neg_mean_squared_error',\n",
    "    cv=cv\n",
    ")\n",
    "\n",
    "# Find RMSE\n",
    "rmse = np.mean(np.sqrt(np.absolute(scores)))\n",
    "rmse"
   ]
  },
  {
   "cell_type": "markdown",
   "id": "95bff86d-3526-4400-a09e-1b854d14949f",
   "metadata": {},
   "source": [
    "This is a much more reasonable RMSE. How does the reduced dataset perform on different slices?"
   ]
  },
  {
   "cell_type": "code",
   "execution_count": 16,
   "id": "f3aee667-8cac-465e-8e23-1b70fefa7d77",
   "metadata": {},
   "outputs": [
    {
     "name": "stdout",
     "output_type": "stream",
     "text": [
      "2 folds - Outlier games:\n",
      "\t {'Diplomacy': -62362018.09583988, 'Blood on the Clocktower': -62362017.83267179, 'Ra': -975682435924.0985, 'The Estates': -975682435925.3705, 'Wings of War: Famous Aces': -524821172498.9899, 'Paths of Glory': -524821172499.6047, 'The Grizzled': -524821172500.063, 'No Thanks!': -975682435925.4734, 'Cosmic Encounter': -62362018.22522544, 'History of the World': -524821172500.01807, 'A Game of Thrones: The Board Game (Second Edition)': -62362017.81186701, 'Nightmare Productions': -975682435925.0319, 'Cosmic Encounter: 42nd Anniversary Edition': -62362017.850279115, 'Tiny Epic Kingdoms': -62362018.53601172, 'Citadels': -653071117.8103834, 'Arkham Horror': -653071117.7523369, 'Rhino Hero': -653071118.2375696}\n",
      "3 folds - Outlier games:\n",
      "\t {'Ra': -28203743514906.65, 'The Estates': -28203743514907.09, 'Wings of War: Famous Aces': -5596261613805.6455, 'Paths of Glory': -5596261613805.712, 'The Grizzled': -5596261613806.417, 'No Thanks!': -28203743514907.14, 'History of the World': -5596261613806.092, 'Nightmare Productions': -28203743514906.8, 'Citadels': -350885392.79301524, 'Arkham Horror': -350885392.71530867, 'Rhino Hero': -350885393.2430826}\n",
      "4 folds - Outlier games:\n",
      "\t {'Ra': -58912409073.95535, 'The Estates': -58912409074.28874, 'Wings of War: Famous Aces': 596844359549.6028, 'Paths of Glory': 596844359549.5192, 'The Grizzled': 596844359548.6663, 'No Thanks!': -58912409074.39123, 'History of the World': 596844359549.048, 'Nightmare Productions': -58912409073.88829}\n",
      "5 folds - Outlier games:\n",
      "\t {}\n",
      "6 folds - Outlier games:\n",
      "\t {}\n",
      "7 folds - Outlier games:\n",
      "\t {}\n",
      "8 folds - Outlier games:\n",
      "\t {}\n",
      "9 folds - Outlier games:\n",
      "\t {'Wings of War: Famous Aces': -680911835404.0085, 'Paths of Glory': -680911835404.3195, 'The Grizzled': -680911835405.1207, 'History of the World': -680911835404.8243}\n",
      "10 folds - Outlier games:\n",
      "\t {}\n",
      "11 folds - Outlier games:\n",
      "\t {}\n",
      "12 folds - Outlier games:\n",
      "\t {}\n",
      "13 folds - Outlier games:\n",
      "\t {}\n",
      "14 folds - Outlier games:\n",
      "\t {}\n",
      "15 folds - Outlier games:\n",
      "\t {}\n",
      "16 folds - Outlier games:\n",
      "\t {}\n",
      "17 folds - Outlier games:\n",
      "\t {}\n",
      "18 folds - Outlier games:\n",
      "\t {}\n",
      "19 folds - Outlier games:\n",
      "\t {}\n",
      "20 folds - Outlier games:\n",
      "\t {}\n"
     ]
    }
   ],
   "source": [
    "# find_outlier_games returns {Game Name: Predicted Score} for any game\n",
    "# where predicted score is -20 < score < 20\n",
    "for i in range(2, 21):\n",
    "    outliers = find_outlier_games(X_train_no_tele, y_train_no_tele, names, i)\n",
    "    print(f'{i} folds - Outlier games:')\n",
    "    print('\\t', outliers)"
   ]
  },
  {
   "cell_type": "markdown",
   "id": "3d1daa9a-a855-4155-a56d-8c5fde13d6cc",
   "metadata": {},
   "source": [
    "There are still a number of anomalous results with some fold selections, but the majority of fold selections produce acceptable results."
   ]
  },
  {
   "cell_type": "markdown",
   "id": "e28bf124-35fb-476f-9a7b-be5f926a7a86",
   "metadata": {},
   "source": [
    "### Initial Linear regression thoughts\n",
    "\n",
    "Linear regression by itself does not seem to be a good choice for the model. There is the possibility of predicting some very high or low predictions, depending on the training data used. There is also one game in the training data that absolutely is not predicted well. This has the potential to lead to very undesirable results in production."
   ]
  },
  {
   "cell_type": "code",
   "execution_count": null,
   "id": "0a5cd52d-96b4-423c-b3e2-d5630fb493c2",
   "metadata": {},
   "outputs": [],
   "source": []
  }
 ],
 "metadata": {
  "kernelspec": {
   "display_name": "Python 3 (ipykernel)",
   "language": "python",
   "name": "python3"
  },
  "language_info": {
   "codemirror_mode": {
    "name": "ipython",
    "version": 3
   },
   "file_extension": ".py",
   "mimetype": "text/x-python",
   "name": "python",
   "nbconvert_exporter": "python",
   "pygments_lexer": "ipython3",
   "version": "3.8.18"
  }
 },
 "nbformat": 4,
 "nbformat_minor": 5
}
